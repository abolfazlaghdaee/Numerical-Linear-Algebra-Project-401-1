{
 "cells": [
  {
   "cell_type": "code",
   "execution_count": 5,
   "metadata": {
    "tags": []
   },
   "outputs": [],
   "source": [
    "import numpy as np \n",
    "import scipy.linalg as lg "
   ]
  },
  {
   "cell_type": "markdown",
   "metadata": {},
   "source": [
    "# Q1"
   ]
  },
  {
   "cell_type": "markdown",
   "metadata": {},
   "source": [
    "## LU Decoposition\n",
    "\n",
    "  \\begin{bmatrix}a_{11}&a_{12}&a_{13}\\\\a_{21}&a_{22}&a_{23}\\\\a_{31}&a_{32}&a_{33}\\end{bmatrix} \n",
    " \n",
    "\\begin{bmatrix}\\ell _{11}&0&0\\\\\\ell _{21}&\\ell _{22}&0\\\\\\ell _{31}&\\ell _{32}&\\ell _{33}\\end{bmatrix}\n",
    "\n",
    "\\begin{bmatrix}u_{11}&u_{12}&u_{13}\\\\0&u_{22}&u_{23}\\\\0&0&u_{33}\\end{bmatrix}"
   ]
  },
  {
   "cell_type": "code",
   "execution_count": 6,
   "metadata": {},
   "outputs": [],
   "source": [
    "A = np.array([[95, 54, 26, 6, 10],[70, 40, 20, 5, 8],\n",
    "             [46, 26, 14, 4, 6],[25, 14, 8, 3, 4],\n",
    "             [9, 5, 3, 2, 2]])"
   ]
  },
  {
   "cell_type": "code",
   "execution_count": 9,
   "metadata": {
    "tags": []
   },
   "outputs": [
    {
     "data": {
      "text/plain": [
       "array([[95, 54, 26,  6, 10],\n",
       "       [70, 40, 20,  5,  8],\n",
       "       [46, 26, 14,  4,  6],\n",
       "       [25, 14,  8,  3,  4],\n",
       "       [ 9,  5,  3,  2,  2]])"
      ]
     },
     "execution_count": 9,
     "metadata": {},
     "output_type": "execute_result"
    }
   ],
   "source": [
    "A"
   ]
  },
  {
   "cell_type": "code",
   "execution_count": 10,
   "metadata": {},
   "outputs": [],
   "source": [
    "A, L, U = lg.lu(A)"
   ]
  },
  {
   "cell_type": "code",
   "execution_count": 11,
   "metadata": {},
   "outputs": [
    {
     "data": {
      "text/plain": [
       "array([[ 1.        ,  0.        ,  0.        ,  0.        ,  0.        ],\n",
       "       [ 0.73684211,  1.        ,  0.        ,  0.        ,  0.        ],\n",
       "       [ 0.48421053, -0.7       ,  1.        ,  0.        ,  0.        ],\n",
       "       [ 0.09473684, -0.55      ,  0.5       ,  1.        ,  0.        ],\n",
       "       [ 0.26315789, -1.        ,  1.        ,  0.5       ,  1.        ]])"
      ]
     },
     "execution_count": 11,
     "metadata": {},
     "output_type": "execute_result"
    }
   ],
   "source": [
    "L"
   ]
  },
  {
   "cell_type": "code",
   "execution_count": 12,
   "metadata": {},
   "outputs": [
    {
     "data": {
      "text/plain": [
       "array([[95.        , 54.        , 26.        ,  6.        , 10.        ],\n",
       "       [ 0.        ,  0.21052632,  0.84210526,  0.57894737,  0.63157895],\n",
       "       [ 0.        ,  0.        ,  2.        ,  1.5       ,  1.6       ],\n",
       "       [ 0.        ,  0.        ,  0.        ,  1.        ,  0.6       ],\n",
       "       [ 0.        ,  0.        ,  0.        ,  0.        ,  0.1       ]])"
      ]
     },
     "execution_count": 12,
     "metadata": {},
     "output_type": "execute_result"
    }
   ],
   "source": [
    "U"
   ]
  },
  {
   "cell_type": "code",
   "execution_count": 13,
   "metadata": {},
   "outputs": [],
   "source": [
    "A = np.array([[95, 54, 26, 6, 10],[70, 40, 20, 5, 8],\n",
    "             [46, 26, 14, 4, 6],[25, 14, 8, 3, 4],\n",
    "             [9, 5, 3, 2, 2]])"
   ]
  },
  {
   "cell_type": "code",
   "execution_count": 14,
   "metadata": {},
   "outputs": [],
   "source": [
    "n = A.shape[0]\n",
    "u = np.zeros((n,n), dtype=np.double)\n",
    "l = np.eye(n, dtype=np.double)\n",
    "\n",
    "def firstQ1(A):\n",
    "    \n",
    "    n = A.shape[0]\n",
    "    for k in range(n):\n",
    "        \n",
    "        u[k, k:] = A[k, k:] - l[k,:k] @ u[:k,k:]\n",
    "        \n",
    "        l[(k+1):,k] = (A[(k+1):,k] - l[(k+1):,:] @ u[:,k]) / u[k, k]\n",
    "        \n",
    "        \n",
    "        \n",
    "    return l,u\n"
   ]
  },
  {
   "cell_type": "code",
   "execution_count": 15,
   "metadata": {},
   "outputs": [
    {
     "data": {
      "text/plain": [
       "(array([[ 1.        ,  0.        ,  0.        ,  0.        ,  0.        ],\n",
       "        [ 0.73684211,  1.        ,  0.        ,  0.        ,  0.        ],\n",
       "        [ 0.48421053, -0.7       ,  1.        ,  0.        ,  0.        ],\n",
       "        [ 0.26315789, -1.        ,  1.        ,  1.        ,  0.        ],\n",
       "        [ 0.09473684, -0.55      ,  0.5       ,  2.        ,  1.        ]]),\n",
       " array([[95.        , 54.        , 26.        ,  6.        , 10.        ],\n",
       "        [ 0.        ,  0.21052632,  0.84210526,  0.57894737,  0.63157895],\n",
       "        [ 0.        ,  0.        ,  2.        ,  1.5       ,  1.6       ],\n",
       "        [ 0.        ,  0.        ,  0.        ,  0.5       ,  0.4       ],\n",
       "        [ 0.        ,  0.        ,  0.        ,  0.        , -0.2       ]]))"
      ]
     },
     "execution_count": 15,
     "metadata": {},
     "output_type": "execute_result"
    }
   ],
   "source": [
    "firstQ1(A)"
   ]
  },
  {
   "cell_type": "code",
   "execution_count": 16,
   "metadata": {},
   "outputs": [
    {
     "data": {
      "text/plain": [
       "array([[ 1.        ,  0.        ,  0.        ,  0.        ,  0.        ],\n",
       "       [ 0.73684211,  1.        ,  0.        ,  0.        ,  0.        ],\n",
       "       [ 0.48421053, -0.7       ,  1.        ,  0.        ,  0.        ],\n",
       "       [ 0.26315789, -1.        ,  1.        ,  1.        ,  0.        ],\n",
       "       [ 0.09473684, -0.55      ,  0.5       ,  2.        ,  1.        ]])"
      ]
     },
     "execution_count": 16,
     "metadata": {},
     "output_type": "execute_result"
    }
   ],
   "source": [
    "l"
   ]
  },
  {
   "cell_type": "code",
   "execution_count": 17,
   "metadata": {},
   "outputs": [
    {
     "data": {
      "text/plain": [
       "array([[95.        , 54.        , 26.        ,  6.        , 10.        ],\n",
       "       [ 0.        ,  0.21052632,  0.84210526,  0.57894737,  0.63157895],\n",
       "       [ 0.        ,  0.        ,  2.        ,  1.5       ,  1.6       ],\n",
       "       [ 0.        ,  0.        ,  0.        ,  0.5       ,  0.4       ],\n",
       "       [ 0.        ,  0.        ,  0.        ,  0.        , -0.2       ]])"
      ]
     },
     "execution_count": 17,
     "metadata": {},
     "output_type": "execute_result"
    }
   ],
   "source": [
    "u"
   ]
  },
  {
   "cell_type": "code",
   "execution_count": 18,
   "metadata": {},
   "outputs": [
    {
     "data": {
      "text/plain": [
       "array([[95., 54., 26.,  6., 10.],\n",
       "       [70., 40., 20.,  5.,  8.],\n",
       "       [46., 26., 14.,  4.,  6.],\n",
       "       [25., 14.,  8.,  3.,  4.],\n",
       "       [ 9.,  5.,  3.,  2.,  2.]])"
      ]
     },
     "execution_count": 18,
     "metadata": {},
     "output_type": "execute_result"
    }
   ],
   "source": [
    "l @ u"
   ]
  },
  {
   "cell_type": "markdown",
   "metadata": {},
   "source": [
    "### QR Decompostion\n"
   ]
  },
  {
   "cell_type": "code",
   "execution_count": 19,
   "metadata": {},
   "outputs": [],
   "source": [
    "A = np.array([[95, 54, 26, 6, 10],[70, 40, 20, 5, 8],\n",
    "             [46, 26, 14, 4, 6],[25, 14, 8, 3, 4],\n",
    "             [9, 5, 3, 2, 2]])"
   ]
  },
  {
   "cell_type": "code",
   "execution_count": 20,
   "metadata": {},
   "outputs": [],
   "source": [
    "Q1 , R1 = lg.qr(A)"
   ]
  },
  {
   "cell_type": "code",
   "execution_count": 21,
   "metadata": {},
   "outputs": [
    {
     "data": {
      "text/plain": [
       "array([[-7.34099782e-01,  2.66652690e-02,  6.78517850e-01,\n",
       "        -7.67290867e-16,  2.74528934e-16],\n",
       "       [-5.40915629e-01, -5.79162849e-01, -5.62464955e-01,\n",
       "        -1.84448932e-01, -1.46943672e-01],\n",
       "       [-3.55458842e-01,  4.32079264e-01, -4.01557259e-01,\n",
       "         4.71237270e-01,  5.51038769e-01],\n",
       "       [-1.93184153e-01,  6.05828118e-01, -2.32817772e-01,\n",
       "        -4.04597656e-02, -7.34718358e-01],\n",
       "       [-6.95462951e-02,  3.31872202e-01, -8.82856385e-02,\n",
       "        -8.61555009e-01,  3.67359179e-01]])"
      ]
     },
     "execution_count": 21,
     "metadata": {},
     "output_type": "execute_result"
    }
   ],
   "source": [
    "Q1"
   ]
  },
  {
   "cell_type": "code",
   "execution_count": 22,
   "metadata": {},
   "outputs": [
    {
     "data": {
      "text/plain": [
       "array([[-1.29410201e+02, -7.35722529e+01, -3.66354428e+01,\n",
       "        -9.24965725e+00, -1.47129051e+01],\n",
       "       [ 0.00000000e+00, -3.51573929e-01,  1.00139125e+00,\n",
       "         1.47372318e+00,  1.31288235e+00],\n",
       "       [ 0.00000000e+00,  0.00000000e+00, -1.35703570e+00,\n",
       "        -1.22247130e+00, -1.23172705e+00],\n",
       "       [ 0.00000000e+00,  0.00000000e+00,  0.00000000e+00,\n",
       "        -8.81784892e-01, -5.33116912e-01],\n",
       "       [ 0.00000000e+00,  0.00000000e+00,  0.00000000e+00,\n",
       "         0.00000000e+00, -7.34718358e-02]])"
      ]
     },
     "execution_count": 22,
     "metadata": {},
     "output_type": "execute_result"
    }
   ],
   "source": [
    "R1"
   ]
  },
  {
   "cell_type": "code",
   "execution_count": 23,
   "metadata": {},
   "outputs": [
    {
     "data": {
      "text/plain": [
       "array([[95., 54., 26.,  6., 10.],\n",
       "       [70., 40., 20.,  5.,  8.],\n",
       "       [46., 26., 14.,  4.,  6.],\n",
       "       [25., 14.,  8.,  3.,  4.],\n",
       "       [ 9.,  5.,  3.,  2.,  2.]])"
      ]
     },
     "execution_count": 23,
     "metadata": {},
     "output_type": "execute_result"
    }
   ],
   "source": [
    "Q1 @ R1"
   ]
  },
  {
   "cell_type": "code",
   "execution_count": 24,
   "metadata": {},
   "outputs": [],
   "source": [
    "A = np.array([[95, 54, 26, 6, 10],[70, 40, 20, 5, 8],\n",
    "             [46, 26, 14, 4, 6],[25, 14, 8, 3, 4],\n",
    "             [9, 5, 3, 2, 2]])\n",
    "\n",
    "def secondQ1(A):\n",
    "    n, m = A.shape  \n",
    "\n",
    "    Q = np.empty((n, n))\n",
    "    v = np.empty((n, n))\n",
    "\n",
    "    v[:, 0] = A[:, 0]\n",
    "    Q[:, 0] = v[:, 0] / np.linalg.norm(v[:, 0])\n",
    "\n",
    "    for i in range(1, n):\n",
    "\n",
    "        v[:, i] = A[:, i]\n",
    "        for j in range(i):\n",
    "            v[:, i] -= (A[:, i] @ Q[:, j]) * Q[:, j]\n",
    "\n",
    "        Q[:, i] = v[:, i] / np.linalg.norm(v[:, i]) \n",
    "\n",
    "    R = np.zeros((n, m))\n",
    "    for i in range(n):\n",
    "        for j in range(i, m):\n",
    "            R[i, j] = A[:, j] @ Q[:, i]\n",
    "\n",
    "    return Q, R"
   ]
  },
  {
   "cell_type": "code",
   "execution_count": 25,
   "metadata": {},
   "outputs": [],
   "source": [
    "Q, R = secondQ1(A)"
   ]
  },
  {
   "cell_type": "code",
   "execution_count": 26,
   "metadata": {},
   "outputs": [
    {
     "data": {
      "text/plain": [
       "array([[ 7.34099782e-01, -2.66652690e-02, -6.78517850e-01,\n",
       "        -5.76776913e-13, -2.65706521e-12],\n",
       "       [ 5.40915629e-01,  5.79162849e-01,  5.62464955e-01,\n",
       "         1.84448932e-01,  1.46943672e-01],\n",
       "       [ 3.55458842e-01, -4.32079264e-01,  4.01557259e-01,\n",
       "        -4.71237270e-01, -5.51038769e-01],\n",
       "       [ 1.93184153e-01, -6.05828118e-01,  2.32817772e-01,\n",
       "         4.04597656e-02,  7.34718358e-01],\n",
       "       [ 6.95462951e-02, -3.31872202e-01,  8.82856385e-02,\n",
       "         8.61555009e-01, -3.67359179e-01]])"
      ]
     },
     "execution_count": 26,
     "metadata": {},
     "output_type": "execute_result"
    }
   ],
   "source": [
    "Q"
   ]
  },
  {
   "cell_type": "code",
   "execution_count": 27,
   "metadata": {},
   "outputs": [
    {
     "data": {
      "text/plain": [
       "array([[ 1.29410201e+02,  7.35722529e+01,  3.66354428e+01,\n",
       "         9.24965725e+00,  1.47129051e+01],\n",
       "       [ 0.00000000e+00,  3.51573929e-01, -1.00139125e+00,\n",
       "        -1.47372318e+00, -1.31288235e+00],\n",
       "       [ 0.00000000e+00,  0.00000000e+00,  1.35703570e+00,\n",
       "         1.22247130e+00,  1.23172705e+00],\n",
       "       [ 0.00000000e+00,  0.00000000e+00,  0.00000000e+00,\n",
       "         8.81784892e-01,  5.33116912e-01],\n",
       "       [ 0.00000000e+00,  0.00000000e+00,  0.00000000e+00,\n",
       "         0.00000000e+00,  7.34718358e-02]])"
      ]
     },
     "execution_count": 27,
     "metadata": {},
     "output_type": "execute_result"
    }
   ],
   "source": [
    "R"
   ]
  },
  {
   "cell_type": "code",
   "execution_count": 28,
   "metadata": {},
   "outputs": [
    {
     "data": {
      "text/plain": [
       "array([[95., 54., 26.,  6., 10.],\n",
       "       [70., 40., 20.,  5.,  8.],\n",
       "       [46., 26., 14.,  4.,  6.],\n",
       "       [25., 14.,  8.,  3.,  4.],\n",
       "       [ 9.,  5.,  3.,  2.,  2.]])"
      ]
     },
     "execution_count": 28,
     "metadata": {},
     "output_type": "execute_result"
    }
   ],
   "source": [
    "Q @ R"
   ]
  },
  {
   "cell_type": "code",
   "execution_count": null,
   "metadata": {},
   "outputs": [],
   "source": []
  },
  {
   "cell_type": "code",
   "execution_count": null,
   "metadata": {},
   "outputs": [],
   "source": []
  },
  {
   "cell_type": "markdown",
   "metadata": {},
   "source": [
    "# Q2"
   ]
  },
  {
   "cell_type": "code",
   "execution_count": 29,
   "metadata": {},
   "outputs": [],
   "source": [
    "A = np.array([[4, -1, 0, 0, 0, 0, 0, 0, 0, 0],\n",
    "             [-1, 4, -1, 0, 0, 0, 0, 0, 0, 0],\n",
    "             [0, -1, 4, -1, 0, 0, 0, 0, 0, 0],\n",
    "             [0, 0, -1, 4, -1, 0, 0, 0, 0, 0],\n",
    "             [0, 0, 0, -1, 4, -1, 0, 0, 0, 0],\n",
    "             [0, 0, 0, 0, -1, 4, -1, 0, 0, 0],\n",
    "             [0, 0, 0, 0, 0, -1, 4, -1, 0, 0],\n",
    "             [0, 0, 0, 0, 0, 0, -1, 4, -1, 0],\n",
    "             [0, 0, 0, 0, 0, 0, 0, -1, 4, -1],\n",
    "             [0, 0, 0, 0, 0, 0, 0, 0, -1, 4]])\n",
    "             \n",
    "             "
   ]
  },
  {
   "cell_type": "code",
   "execution_count": 30,
   "metadata": {},
   "outputs": [
    {
     "data": {
      "text/plain": [
       "array([[ 4, -1,  0,  0,  0,  0,  0,  0,  0,  0],\n",
       "       [-1,  4, -1,  0,  0,  0,  0,  0,  0,  0],\n",
       "       [ 0, -1,  4, -1,  0,  0,  0,  0,  0,  0],\n",
       "       [ 0,  0, -1,  4, -1,  0,  0,  0,  0,  0],\n",
       "       [ 0,  0,  0, -1,  4, -1,  0,  0,  0,  0],\n",
       "       [ 0,  0,  0,  0, -1,  4, -1,  0,  0,  0],\n",
       "       [ 0,  0,  0,  0,  0, -1,  4, -1,  0,  0],\n",
       "       [ 0,  0,  0,  0,  0,  0, -1,  4, -1,  0],\n",
       "       [ 0,  0,  0,  0,  0,  0,  0, -1,  4, -1],\n",
       "       [ 0,  0,  0,  0,  0,  0,  0,  0, -1,  4]])"
      ]
     },
     "execution_count": 30,
     "metadata": {},
     "output_type": "execute_result"
    }
   ],
   "source": [
    "A"
   ]
  },
  {
   "cell_type": "code",
   "execution_count": 31,
   "metadata": {},
   "outputs": [],
   "source": [
    "b = np.array([2, 4, 6, 8, 10, 12, 14, 16, 18, 31])"
   ]
  },
  {
   "cell_type": "code",
   "execution_count": 32,
   "metadata": {},
   "outputs": [
    {
     "data": {
      "text/plain": [
       "array([ 2,  4,  6,  8, 10, 12, 14, 16, 18, 31])"
      ]
     },
     "execution_count": 32,
     "metadata": {},
     "output_type": "execute_result"
    }
   ],
   "source": [
    "np.transpose(b)"
   ]
  },
  {
   "cell_type": "code",
   "execution_count": 33,
   "metadata": {},
   "outputs": [],
   "source": [
    "  \n",
    "def secondQ(a,x ,b):\n",
    "    \n",
    "    n = a.shape[0]         \n",
    "   \n",
    "    for j in range(0, n):        \n",
    "        \n",
    "        d = b[j]                  \n",
    "          \n",
    "       \n",
    "        for i in range(0, n):     \n",
    "            if(j != i):\n",
    "                d-=a[j][i]* x[i]\n",
    "             \n",
    "        x[j] = d /a[j][j]\n",
    "             \n",
    "    return x    \n",
    "   "
   ]
  },
  {
   "cell_type": "code",
   "execution_count": null,
   "metadata": {},
   "outputs": [],
   "source": []
  },
  {
   "cell_type": "code",
   "execution_count": 34,
   "metadata": {},
   "outputs": [
    {
     "name": "stdout",
     "output_type": "stream",
     "text": [
      "5.078884333542533e-06\n",
      "[ 0.99999831  1.99999831  2.99999877  3.99999924  4.99999958  5.99999979\n",
      "  6.9999999   7.99999996  8.99999999 10.        ]\n"
     ]
    }
   ],
   "source": [
    "x = [0,0,0,0,0,0,0,0,0,0]\n",
    "f =[]\n",
    "\n",
    "for i in range(0, 100): \n",
    "   \n",
    "    v1= np.array(x) \n",
    "    # print('v1 = ',v1)\n",
    "   \n",
    "\n",
    "    x = secondQ(A, x, b)\n",
    "    \n",
    "    v2 = np.array(x)\n",
    "    nor = lg.norm(v2 - v1, np.inf)\n",
    "    if nor < 0.00001:\n",
    "        print(nor)\n",
    "        \n",
    "        print(v2)\n",
    "        break"
   ]
  },
  {
   "cell_type": "code",
   "execution_count": 35,
   "metadata": {},
   "outputs": [
    {
     "data": {
      "text/plain": [
       "5.078884333542533e-06"
      ]
     },
     "execution_count": 35,
     "metadata": {},
     "output_type": "execute_result"
    }
   ],
   "source": [
    "lg.norm(v2-v1, np.inf)"
   ]
  },
  {
   "cell_type": "markdown",
   "metadata": {},
   "source": [
    "# Q3"
   ]
  },
  {
   "cell_type": "code",
   "execution_count": 36,
   "metadata": {},
   "outputs": [
    {
     "data": {
      "text/plain": [
       "array([[  3,   7,  13,  21,  31,  43,  57,  73,  91, 111],\n",
       "       [  7,  12,  19,  28,  39,  52,  67,  84, 103, 124],\n",
       "       [ 13,  19,  27,  37,  49,  63,  79,  97, 117, 139],\n",
       "       [ 21,  28,  37,  48,  61,  76,  93, 112, 133, 156],\n",
       "       [ 31,  39,  49,  61,  75,  91, 109, 129, 151, 175],\n",
       "       [ 43,  52,  63,  76,  91, 108, 127, 148, 171, 196],\n",
       "       [ 57,  67,  79,  93, 109, 127, 147, 169, 193, 219],\n",
       "       [ 73,  84,  97, 112, 129, 148, 169, 192, 217, 244],\n",
       "       [ 91, 103, 117, 133, 151, 171, 193, 217, 243, 271],\n",
       "       [111, 124, 139, 156, 175, 196, 219, 244, 271, 300]])"
      ]
     },
     "execution_count": 36,
     "metadata": {},
     "output_type": "execute_result"
    }
   ],
   "source": [
    "import numpy as np\n",
    "A = np.array([[i*j+ i*i + j*j for i in range(1,11)] \n",
    "for j in range(1,11)])\n",
    "A"
   ]
  },
  {
   "cell_type": "code",
   "execution_count": 37,
   "metadata": {},
   "outputs": [
    {
     "data": {
      "text/plain": [
       "array([[  3,   7,  13,  21,  31,  43,  57,  73,  91, 111],\n",
       "       [  7,  12,  19,  28,  39,  52,  67,  84, 103, 124],\n",
       "       [ 13,  19,  27,  37,  49,  63,  79,  97, 117, 139],\n",
       "       [ 21,  28,  37,  48,  61,  76,  93, 112, 133, 156],\n",
       "       [ 31,  39,  49,  61,  75,  91, 109, 129, 151, 175],\n",
       "       [ 43,  52,  63,  76,  91, 108, 127, 148, 171, 196],\n",
       "       [ 57,  67,  79,  93, 109, 127, 147, 169, 193, 219],\n",
       "       [ 73,  84,  97, 112, 129, 148, 169, 192, 217, 244],\n",
       "       [ 91, 103, 117, 133, 151, 171, 193, 217, 243, 271],\n",
       "       [111, 124, 139, 156, 175, 196, 219, 244, 271, 300]])"
      ]
     },
     "execution_count": 37,
     "metadata": {},
     "output_type": "execute_result"
    }
   ],
   "source": [
    "A.transpose()"
   ]
  },
  {
   "cell_type": "code",
   "execution_count": 38,
   "metadata": {},
   "outputs": [],
   "source": [
    "def genvec_house(a):\n",
    "\n",
    "\n",
    "    u = a / (a[0] + np.copysign(np.linalg.norm(a), a[0]))\n",
    "\n",
    "    u[0] = 1\n",
    "    tau = 2*(u@ u.T) / (u.T @ u)\n",
    "    \n",
    "    return u,tau"
   ]
  },
  {
   "cell_type": "code",
   "execution_count": 39,
   "metadata": {},
   "outputs": [],
   "source": [
    "import numpy as np\n",
    "\n",
    "\n",
    "def qr(A):\n",
    "    m,n = A.shape\n",
    "    R = A.copy()\n",
    "    Q = np.identity(m)\n",
    "    \n",
    "    for j in range(0, n):\n",
    "\n",
    "        u, tau = genvec_house(R[j:, j, np.newaxis])\n",
    "        \n",
    "        H = np.identity(m)\n",
    "        H[j:, j:] -= tau \n",
    "        R = H@R\n",
    "        Q = H @Q\n",
    "        \n",
    "    return Q.T, np.triu(R)\n",
    "    \n",
    "\n",
    "\n",
    "\n",
    "A= np.array([[i*j+ i*i + j*j for i in range(1,11)] \n",
    "                  for j in range(1,11)])\n",
    "q, r = lg.qr(A)\n",
    "Q, R = qr(A)\n",
    "\n",
    "# with np.printoptions(linewidth=9999, precision=20, suppress=True):\n",
    "#     print(\"Q from qr\")\n",
    "#     print(Q)\n",
    "#     print(\"Q from lg.qr\")\n",
    "#     print(q)\n",
    "#     print()\n",
    "    \n",
    "#     print(\"R from qr\")\n",
    "#     print(R)\n",
    "#     print(\"R from np.linalg.qr\")\n",
    "#     print(r)\n"
   ]
  },
  {
   "cell_type": "code",
   "execution_count": 40,
   "metadata": {},
   "outputs": [
    {
     "data": {
      "text/plain": [
       "array([[-0.0166007 , -0.36483746,  0.69627571, -0.02773998, -0.21718188,\n",
       "        -0.10377545, -0.05851544, -0.37050986,  0.09338993,  0.41675901],\n",
       "       [-0.03873497, -0.40690837,  0.33423504,  0.15562774,  0.20634669,\n",
       "         0.33159027,  0.1126481 ,  0.31210429,  0.41167828, -0.51466822],\n",
       "       [-0.07193638, -0.41874022,  0.05305768,  0.27179087,  0.01902161,\n",
       "        -0.18968417,  0.01598325,  0.50813265, -0.65772929,  0.12406615],\n",
       "       [-0.11620492, -0.40033302, -0.14725635, -0.36356984,  0.27716862,\n",
       "         0.06821922, -0.3606322 , -0.46431936, -0.34134572, -0.35877733],\n",
       "       [-0.17154059, -0.35168677, -0.26670708, -0.61676711, -0.29847452,\n",
       "         0.03620436,  0.49554178,  0.16712187,  0.11399842,  0.13590842],\n",
       "       [-0.2379434 , -0.27280147, -0.30529448,  0.34827434, -0.03423699,\n",
       "        -0.68979039,  0.04349649, -0.18446272,  0.34893271, -0.14073785],\n",
       "       [-0.31541334, -0.16367711, -0.26301857,  0.01688985,  0.16585706,\n",
       "         0.25251075, -0.55452587,  0.23814088,  0.32050661,  0.49603975],\n",
       "       [-0.40395042, -0.02431371, -0.13987935,  0.41435747,  0.17645329,\n",
       "         0.43063435,  0.47342488, -0.38542548, -0.15162866,  0.18088031],\n",
       "       [-0.50355464,  0.14528875,  0.06412319,  0.09487458, -0.71345679,\n",
       "         0.15906957, -0.25760233,  0.02541183, -0.10574168, -0.31575496],\n",
       "       [-0.61422599,  0.34513027,  0.34898905, -0.29373791,  0.4185029 ,\n",
       "        -0.29497851,  0.09018135,  0.15380588, -0.03206059, -0.02371528]])"
      ]
     },
     "execution_count": 40,
     "metadata": {},
     "output_type": "execute_result"
    }
   ],
   "source": [
    "Q"
   ]
  },
  {
   "cell_type": "code",
   "execution_count": 41,
   "metadata": {},
   "outputs": [],
   "source": [
    "Qt = Q.transpose()"
   ]
  },
  {
   "cell_type": "code",
   "execution_count": 42,
   "metadata": {},
   "outputs": [
    {
     "data": {
      "text/plain": [
       "array([[  3,   7,  13,  21,  31,  43,  57,  73,  91, 111],\n",
       "       [  7,  12,  19,  28,  39,  52,  67,  84, 103, 124],\n",
       "       [ 13,  19,  27,  37,  49,  63,  79,  97, 117, 139],\n",
       "       [ 21,  28,  37,  48,  61,  76,  93, 112, 133, 156],\n",
       "       [ 31,  39,  49,  61,  75,  91, 109, 129, 151, 175],\n",
       "       [ 43,  52,  63,  76,  91, 108, 127, 148, 171, 196],\n",
       "       [ 57,  67,  79,  93, 109, 127, 147, 169, 193, 219],\n",
       "       [ 73,  84,  97, 112, 129, 148, 169, 192, 217, 244],\n",
       "       [ 91, 103, 117, 133, 151, 171, 193, 217, 243, 271],\n",
       "       [111, 124, 139, 156, 175, 196, 219, 244, 271, 300]])"
      ]
     },
     "execution_count": 42,
     "metadata": {},
     "output_type": "execute_result"
    }
   ],
   "source": [
    "A"
   ]
  },
  {
   "cell_type": "code",
   "execution_count": 43,
   "metadata": {},
   "outputs": [
    {
     "data": {
      "text/plain": [
       "array([[ 1.15974417e+03,  3.66431029e+02, -3.98906795e+01,\n",
       "         6.07663692e-13, -2.59346198e-13, -2.98086914e-13,\n",
       "        -7.35427872e-14,  2.03640861e-14, -1.00106939e-13,\n",
       "        -2.79311906e-14],\n",
       "       [ 3.66431029e+02, -6.56766185e+00,  5.29514863e+00,\n",
       "        -8.98508046e-14,  8.22669395e-14,  1.49529802e-14,\n",
       "        -1.09824334e-14, -4.62027766e-15, -3.91587905e-14,\n",
       "         3.57271485e-14],\n",
       "       [-3.98906795e+01,  5.29514863e+00,  1.82349503e+00,\n",
       "        -2.82721382e-14,  1.97692787e-14,  2.57328659e-14,\n",
       "        -3.27418619e-15, -2.22457607e-15,  4.96697499e-15,\n",
       "        -2.05211910e-15],\n",
       "       [ 6.05491095e-13, -8.17365951e-14, -2.81054676e-14,\n",
       "        -5.19613963e-15, -1.20026675e-15, -1.83092931e-16,\n",
       "        -7.77660789e-15,  1.07696932e-14,  4.79666766e-15,\n",
       "         2.98100897e-15],\n",
       "       [-2.52368589e-13,  2.91197235e-14,  1.00196668e-15,\n",
       "        -4.08300678e-15, -6.28000317e-15, -4.96615408e-16,\n",
       "         2.77021305e-15,  1.66349446e-15,  6.60447164e-15,\n",
       "         4.62445380e-15],\n",
       "       [-2.72514028e-13,  1.51464389e-14,  2.70601563e-14,\n",
       "         2.97354969e-15, -4.44912909e-15,  6.34655657e-15,\n",
       "         2.63110261e-15, -2.21634978e-15, -1.10773320e-14,\n",
       "        -6.63366840e-15],\n",
       "       [-2.69382996e-14, -3.11625670e-14, -9.96523395e-15,\n",
       "        -5.94443287e-16, -5.79486648e-15, -2.29372914e-15,\n",
       "         1.11284875e-15, -1.88801487e-15, -1.58540514e-15,\n",
       "        -2.78261221e-15],\n",
       "       [ 6.67767079e-15,  1.02402458e-14,  2.28516947e-15,\n",
       "         3.33708240e-15, -2.05215160e-15,  6.52918228e-15,\n",
       "         5.65477471e-15, -5.60019525e-15, -2.52426389e-15,\n",
       "        -1.29066883e-15],\n",
       "       [-9.26393585e-14, -2.61185813e-14,  3.13139786e-15,\n",
       "         6.32443613e-15,  2.44854709e-15,  4.61339044e-15,\n",
       "        -1.92245871e-15, -1.52138719e-15,  2.78035430e-15,\n",
       "         6.74179933e-15],\n",
       "       [-1.35356723e-14,  8.73573645e-15,  1.22807699e-15,\n",
       "         4.06606385e-16,  3.75292885e-15, -8.41850888e-16,\n",
       "         1.47743954e-15, -1.83404508e-15,  6.13984144e-16,\n",
       "        -3.19733991e-15]])"
      ]
     },
     "execution_count": 43,
     "metadata": {},
     "output_type": "execute_result"
    }
   ],
   "source": [
    "Qt @ A @ Q"
   ]
  },
  {
   "cell_type": "code",
   "execution_count": 44,
   "metadata": {},
   "outputs": [
    {
     "data": {
      "text/plain": [
       "array([[  3.,   7.,  13.,  21.,  31.,  43.,  57.,  73.,  91., 111.],\n",
       "       [  7.,  12.,  19.,  28.,  39.,  52.,  67.,  84., 103., 124.],\n",
       "       [ 13.,  19.,  27.,  37.,  49.,  63.,  79.,  97., 117., 139.],\n",
       "       [ 21.,  28.,  37.,  48.,  61.,  76.,  93., 112., 133., 156.],\n",
       "       [ 31.,  39.,  49.,  61.,  75.,  91., 109., 129., 151., 175.],\n",
       "       [ 43.,  52.,  63.,  76.,  91., 108., 127., 148., 171., 196.],\n",
       "       [ 57.,  67.,  79.,  93., 109., 127., 147., 169., 193., 219.],\n",
       "       [ 73.,  84.,  97., 112., 129., 148., 169., 192., 217., 244.],\n",
       "       [ 91., 103., 117., 133., 151., 171., 193., 217., 243., 271.],\n",
       "       [111., 124., 139., 156., 175., 196., 219., 244., 271., 300.]])"
      ]
     },
     "execution_count": 44,
     "metadata": {},
     "output_type": "execute_result"
    }
   ],
   "source": [
    "Q @ R"
   ]
  },
  {
   "cell_type": "code",
   "execution_count": null,
   "metadata": {},
   "outputs": [],
   "source": []
  },
  {
   "cell_type": "code",
   "execution_count": null,
   "metadata": {},
   "outputs": [],
   "source": []
  }
 ],
 "metadata": {
  "kernelspec": {
   "display_name": "Python 3 (ipykernel)",
   "language": "python",
   "name": "python3"
  },
  "language_info": {
   "codemirror_mode": {
    "name": "ipython",
    "version": 3
   },
   "file_extension": ".py",
   "mimetype": "text/x-python",
   "name": "python",
   "nbconvert_exporter": "python",
   "pygments_lexer": "ipython3",
   "version": "3.9.15"
  },
  "vscode": {
   "interpreter": {
    "hash": "22705ef27b5704e2eb50670cf34b5b08ae6ca88e8f64287abd7aaebbf34523ad"
   }
  }
 },
 "nbformat": 4,
 "nbformat_minor": 4
}
