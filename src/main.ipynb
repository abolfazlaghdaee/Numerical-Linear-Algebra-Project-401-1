{
 "cells": [
  {
   "cell_type": "code",
   "execution_count": 5,
   "metadata": {
    "tags": []
   },
   "outputs": [],
   "source": [
    "import numpy as np \n",
    "import scipy.linalg as lg "
   ]
  },
  {
   "cell_type": "markdown",
   "metadata": {},
   "source": [
    "# Q1"
   ]
  },
  {
   "cell_type": "markdown",
   "metadata": {},
   "source": [
    "## LU Decoposition\n",
    "\n",
    "  \\begin{bmatrix}a_{11}&a_{12}&a_{13}\\\\a_{21}&a_{22}&a_{23}\\\\a_{31}&a_{32}&a_{33}\\end{bmatrix} \n",
    " \n",
    "\\begin{bmatrix}\\ell _{11}&0&0\\\\\\ell _{21}&\\ell _{22}&0\\\\\\ell _{31}&\\ell _{32}&\\ell _{33}\\end{bmatrix}\n",
    "\n",
    "\\begin{bmatrix}u_{11}&u_{12}&u_{13}\\\\0&u_{22}&u_{23}\\\\0&0&u_{33}\\end{bmatrix}"
   ]
  },
  {
   "attachments": {
    "79898102-107f-4bd5-9fcd-70f057773c5e.webp": {
     "image/webp": "[encoded data removed]"
    },
    "d34e8f03-5b06-43db-b9ae-41178d657cf9.webp": {
     "image/webp": "[encoded data removed]"
    }
   },
   "cell_type": "markdown",
   "metadata": {},
   "source": [
    " - Let A be a square matrix. An LU factorization refers to the factorization of A, with proper row and/or column orderings or permutations, into two factors – a lower triangular matrix L and an upper triangular matrix U:\n",
    " \n",
    " ![1_cVvjpWMfDrAXVQX3rsXpcQ.webp](attachment:d34e8f03-5b06-43db-b9ae-41178d657cf9.webp)\n",
    "\n",
    "![1_JHNxY1XEExs_8q9Gz1DgpQ.webp](attachment:79898102-107f-4bd5-9fcd-70f057773c5e.webp)\n",
    "\n",
    "\n",
    " "
   ]
  },
  {
   "cell_type": "code",
   "execution_count": 6,
   "metadata": {},
   "outputs": [],
   "source": [
    "A = np.array([[95, 54, 26, 6, 10],[70, 40, 20, 5, 8],\n",
    "             [46, 26, 14, 4, 6],[25, 14, 8, 3, 4],\n",
    "             [9, 5, 3, 2, 2]])"
   ]
  },
  {
   "cell_type": "code",
   "execution_count": 7,
   "metadata": {
    "collapsed": true,
    "jupyter": {
     "outputs_hidden": true
    },
    "tags": []
   },
   "outputs": [
    {
     "data": {
      "text/plain": [
       "array([[95, 54, 26,  6, 10],\n",
       "       [70, 40, 20,  5,  8],\n",
       "       [46, 26, 14,  4,  6],\n",
       "       [25, 14,  8,  3,  4],\n",
       "       [ 9,  5,  3,  2,  2]])"
      ]
     },
     "execution_count": 7,
     "metadata": {},
     "output_type": "execute_result"
    }
   ],
   "source": [
    "A"
   ]
  },
  {
   "cell_type": "code",
   "execution_count": 8,
   "metadata": {},
   "outputs": [],
   "source": [
    "A, L, U = lg.lu(A)"
   ]
  },
  {
   "cell_type": "code",
   "execution_count": null,
   "metadata": {},
   "outputs": [],
   "source": []
  },
  {
   "cell_type": "code",
   "execution_count": null,
   "metadata": {},
   "outputs": [],
   "source": []
  },
  {
   "cell_type": "code",
   "execution_count": 9,
   "metadata": {
    "tags": []
   },
   "outputs": [
    {
     "data": {
      "text/plain": [
       "array([[1., 0., 0., 0., 0.],\n",
       "       [0., 1., 0., 0., 0.],\n",
       "       [0., 0., 1., 0., 0.],\n",
       "       [0., 0., 0., 0., 1.],\n",
       "       [0., 0., 0., 1., 0.]])"
      ]
     },
     "execution_count": 9,
     "metadata": {},
     "output_type": "execute_result"
    }
   ],
   "source": [
    "A\n"
   ]
  },
  {
   "cell_type": "code",
   "execution_count": 10,
   "metadata": {},
   "outputs": [
    {
     "data": {
      "text/plain": [
       "array([[ 1.        ,  0.        ,  0.        ,  0.        ,  0.        ],\n",
       "       [ 0.73684211,  1.        ,  0.        ,  0.        ,  0.        ],\n",
       "       [ 0.48421053, -0.7       ,  1.        ,  0.        ,  0.        ],\n",
       "       [ 0.09473684, -0.55      ,  0.5       ,  1.        ,  0.        ],\n",
       "       [ 0.26315789, -1.        ,  1.        ,  0.5       ,  1.        ]])"
      ]
     },
     "execution_count": 10,
     "metadata": {},
     "output_type": "execute_result"
    }
   ],
   "source": [
    "L"
   ]
  },
  {
   "cell_type": "code",
   "execution_count": 10,
   "metadata": {},
   "outputs": [
    {
     "data": {
      "text/plain": [
       "array([[ 1.        ,  0.        ,  0.        ,  0.        ,  0.        ],\n",
       "       [ 0.73684211,  1.        ,  0.        ,  0.        ,  0.        ],\n",
       "       [ 0.48421053, -0.7       ,  1.        ,  0.        ,  0.        ],\n",
       "       [ 0.09473684, -0.55      ,  0.5       ,  1.        ,  0.        ],\n",
       "       [ 0.26315789, -1.        ,  1.        ,  0.5       ,  1.        ]])"
      ]
     },
     "execution_count": 10,
     "metadata": {},
     "output_type": "execute_result"
    }
   ],
   "source": [
    "L"
   ]
  },
  {
   "cell_type": "code",
   "execution_count": 10,
   "metadata": {},
   "outputs": [
    {
     "data": {
      "text/plain": [
       "array([[ 1.        ,  0.        ,  0.        ,  0.        ,  0.        ],\n",
       "       [ 0.73684211,  1.        ,  0.        ,  0.        ,  0.        ],\n",
       "       [ 0.48421053, -0.7       ,  1.        ,  0.        ,  0.        ],\n",
       "       [ 0.09473684, -0.55      ,  0.5       ,  1.        ,  0.        ],\n",
       "       [ 0.26315789, -1.        ,  1.        ,  0.5       ,  1.        ]])"
      ]
     },
     "execution_count": 10,
     "metadata": {},
     "output_type": "execute_result"
    }
   ],
   "source": [
    "L"
   ]
  },
  {
   "cell_type": "code",
   "execution_count": 10,
   "metadata": {},
   "outputs": [
    {
     "data": {
      "text/plain": [
       "array([[ 1.        ,  0.        ,  0.        ,  0.        ,  0.        ],\n",
       "       [ 0.73684211,  1.        ,  0.        ,  0.        ,  0.        ],\n",
       "       [ 0.48421053, -0.7       ,  1.        ,  0.        ,  0.        ],\n",
       "       [ 0.09473684, -0.55      ,  0.5       ,  1.        ,  0.        ],\n",
       "       [ 0.26315789, -1.        ,  1.        ,  0.5       ,  1.        ]])"
      ]
     },
     "execution_count": 10,
     "metadata": {},
     "output_type": "execute_result"
    }
   ],
   "source": [
    "L"
   ]
  },
  {
   "cell_type": "code",
   "execution_count": 11,
   "metadata": {},
   "outputs": [
    {
     "data": {
      "text/plain": [
       "array([[95.        , 54.        , 26.        ,  6.        , 10.        ],\n",
       "       [ 0.        ,  0.21052632,  0.84210526,  0.57894737,  0.63157895],\n",
       "       [ 0.        ,  0.        ,  2.        ,  1.5       ,  1.6       ],\n",
       "       [ 0.        ,  0.        ,  0.        ,  1.        ,  0.6       ],\n",
       "       [ 0.        ,  0.        ,  0.        ,  0.        ,  0.1       ]])"
      ]
     },
     "execution_count": 11,
     "metadata": {},
     "output_type": "execute_result"
    }
   ],
   "source": [
    "U"
   ]
  },
  {
   "cell_type": "code",
   "execution_count": null,
   "metadata": {},
   "outputs": [],
   "source": []
  },
  {
   "cell_type": "code",
   "execution_count": 15,
   "metadata": {},
   "outputs": [],
   "source": [
    "A = np.array([[95, 54, 26, 6, 10],[70, 40, 20, 5, 8],\n",
    "             [46, 26, 14, 4, 6],[25, 14, 8, 3, 4],\n",
    "             [9, 5, 3, 2, 2]])"
   ]
  },
  {
   "cell_type": "code",
   "execution_count": 16,
   "metadata": {},
   "outputs": [],
   "source": [
    "n = A.shape[0]\n",
    "u = np.zeros((n,n), dtype=np.double)\n",
    "l = np.eye(n, dtype=np.double)\n",
    "\n",
    "def firstQ1(A):\n",
    "    \n",
    "    n = A.shape[0]\n",
    "    for k in range(n):\n",
    "        u[k, k:] = A[k, k:] - l[k,:k] @ u[:k,k:]\n",
    "        \n",
    "        l[(k+1):,k] = (A[(k+1):,k] - l[(k+1):,:] @ u[:,k]) / u[k, k]\n",
    "        \n",
    "        \n",
    "        \n",
    "    return l,u\n"
   ]
  },
  {
   "cell_type": "code",
   "execution_count": 17,
   "metadata": {},
   "outputs": [
    {
     "data": {
      "text/plain": [
       "(array([[ 1.        ,  0.        ,  0.        ,  0.        ,  0.        ],\n",
       "        [ 0.73684211,  1.        ,  0.        ,  0.        ,  0.        ],\n",
       "        [ 0.48421053, -0.7       ,  1.        ,  0.        ,  0.        ],\n",
       "        [ 0.26315789, -1.        ,  1.        ,  1.        ,  0.        ],\n",
       "        [ 0.09473684, -0.55      ,  0.5       ,  2.        ,  1.        ]]),\n",
       " array([[95.        , 54.        , 26.        ,  6.        , 10.        ],\n",
       "        [ 0.        ,  0.21052632,  0.84210526,  0.57894737,  0.63157895],\n",
       "        [ 0.        ,  0.        ,  2.        ,  1.5       ,  1.6       ],\n",
       "        [ 0.        ,  0.        ,  0.        ,  0.5       ,  0.4       ],\n",
       "        [ 0.        ,  0.        ,  0.        ,  0.        , -0.2       ]]))"
      ]
     },
     "execution_count": 17,
     "metadata": {},
     "output_type": "execute_result"
    }
   ],
   "source": [
    "firstQ1(A)"
   ]
  },
  {
   "cell_type": "code",
   "execution_count": 20,
   "metadata": {},
   "outputs": [
    {
     "data": {
      "text/plain": [
       "array([[95., 54., 26.,  6., 10.],\n",
       "       [70., 40., 20.,  5.,  8.],\n",
       "       [46., 26., 14.,  4.,  6.],\n",
       "       [25., 14.,  8.,  3.,  4.],\n",
       "       [ 9.,  5.,  3.,  2.,  2.]])"
      ]
     },
     "execution_count": 20,
     "metadata": {},
     "output_type": "execute_result"
    }
   ],
   "source": [
    "l @ u"
   ]
  },
  {
   "cell_type": "markdown",
   "metadata": {},
   "source": [
    "### QR Decompostion\n"
   ]
  },
  {
   "cell_type": "code",
   "execution_count": 28,
   "metadata": {},
   "outputs": [],
   "source": [
    "A = np.array([[95, 54, 26, 6, 10],[70, 40, 20, 5, 8],\n",
    "             [46, 26, 14, 4, 6],[25, 14, 8, 3, 4],\n",
    "             [9, 5, 3, 2, 2]])"
   ]
  },
  {
   "cell_type": "code",
   "execution_count": 29,
   "metadata": {},
   "outputs": [],
   "source": [
    "Q1 , R1 = lg.qr(A)"
   ]
  },
  {
   "cell_type": "code",
   "execution_count": 30,
   "metadata": {},
   "outputs": [
    {
     "data": {
      "text/plain": [
       "array([[-7.34099782e-01,  2.66652690e-02,  6.78517850e-01,\n",
       "        -7.67290867e-16,  2.74528934e-16],\n",
       "       [-5.40915629e-01, -5.79162849e-01, -5.62464955e-01,\n",
       "        -1.84448932e-01, -1.46943672e-01],\n",
       "       [-3.55458842e-01,  4.32079264e-01, -4.01557259e-01,\n",
       "         4.71237270e-01,  5.51038769e-01],\n",
       "       [-1.93184153e-01,  6.05828118e-01, -2.32817772e-01,\n",
       "        -4.04597656e-02, -7.34718358e-01],\n",
       "       [-6.95462951e-02,  3.31872202e-01, -8.82856385e-02,\n",
       "        -8.61555009e-01,  3.67359179e-01]])"
      ]
     },
     "execution_count": 30,
     "metadata": {},
     "output_type": "execute_result"
    }
   ],
   "source": [
    "Q1"
   ]
  },
  {
   "cell_type": "code",
   "execution_count": 31,
   "metadata": {},
   "outputs": [
    {
     "data": {
      "text/plain": [
       "array([[-1.29410201e+02, -7.35722529e+01, -3.66354428e+01,\n",
       "        -9.24965725e+00, -1.47129051e+01],\n",
       "       [ 0.00000000e+00, -3.51573929e-01,  1.00139125e+00,\n",
       "         1.47372318e+00,  1.31288235e+00],\n",
       "       [ 0.00000000e+00,  0.00000000e+00, -1.35703570e+00,\n",
       "        -1.22247130e+00, -1.23172705e+00],\n",
       "       [ 0.00000000e+00,  0.00000000e+00,  0.00000000e+00,\n",
       "        -8.81784892e-01, -5.33116912e-01],\n",
       "       [ 0.00000000e+00,  0.00000000e+00,  0.00000000e+00,\n",
       "         0.00000000e+00, -7.34718358e-02]])"
      ]
     },
     "execution_count": 31,
     "metadata": {},
     "output_type": "execute_result"
    }
   ],
   "source": [
    "R1"
   ]
  },
  {
   "cell_type": "code",
   "execution_count": 37,
   "metadata": {},
   "outputs": [
    {
     "data": {
      "text/plain": [
       "array([[95., 54., 26.,  6., 10.],\n",
       "       [70., 40., 20.,  5.,  8.],\n",
       "       [46., 26., 14.,  4.,  6.],\n",
       "       [25., 14.,  8.,  3.,  4.],\n",
       "       [ 9.,  5.,  3.,  2.,  2.]])"
      ]
     },
     "execution_count": 37,
     "metadata": {},
     "output_type": "execute_result"
    }
   ],
   "source": [
    "Q1 @ R1"
   ]
  },
  {
   "cell_type": "code",
   "execution_count": 33,
   "metadata": {},
   "outputs": [],
   "source": [
    "A = np.array([[95, 54, 26, 6, 10],[70, 40, 20, 5, 8],\n",
    "             [46, 26, 14, 4, 6],[25, 14, 8, 3, 4],\n",
    "             [9, 5, 3, 2, 2]])\n",
    "\n",
    "def QR_Decomposition(A):\n",
    "    n, m = A.shape # get the shape of \n",
    "\n",
    "    Q = np.empty((n, n))\n",
    "    u = np.empty((n, n))\n",
    "\n",
    "    u[:, 0] = A[:, 0]\n",
    "    Q[:, 0] = u[:, 0] / np.linalg.norm(u[:, 0])\n",
    "\n",
    "    for i in range(1, n):\n",
    "\n",
    "        u[:, i] = A[:, i]\n",
    "        for j in range(i):\n",
    "            u[:, i] -= (A[:, i] @ Q[:, j]) * Q[:, j] # get each u vector\n",
    "\n",
    "        Q[:, i] = u[:, i] / np.linalg.norm(u[:, i]) # compute each e vetor\n",
    "\n",
    "    R = np.zeros((n, m))\n",
    "    for i in range(n):\n",
    "        for j in range(i, m):\n",
    "            R[i, j] = A[:, j] @ Q[:, i]\n",
    "\n",
    "    return Q, R"
   ]
  },
  {
   "cell_type": "code",
   "execution_count": 36,
   "metadata": {},
   "outputs": [
    {
     "data": {
      "text/plain": [
       "(array([[ 7.34099782e-01, -2.66652690e-02, -6.78517850e-01,\n",
       "         -5.76776913e-13, -2.65706521e-12],\n",
       "        [ 5.40915629e-01,  5.79162849e-01,  5.62464955e-01,\n",
       "          1.84448932e-01,  1.46943672e-01],\n",
       "        [ 3.55458842e-01, -4.32079264e-01,  4.01557259e-01,\n",
       "         -4.71237270e-01, -5.51038769e-01],\n",
       "        [ 1.93184153e-01, -6.05828118e-01,  2.32817772e-01,\n",
       "          4.04597656e-02,  7.34718358e-01],\n",
       "        [ 6.95462951e-02, -3.31872202e-01,  8.82856385e-02,\n",
       "          8.61555009e-01, -3.67359179e-01]]),\n",
       " array([[ 1.29410201e+02,  7.35722529e+01,  3.66354428e+01,\n",
       "          9.24965725e+00,  1.47129051e+01],\n",
       "        [ 0.00000000e+00,  3.51573929e-01, -1.00139125e+00,\n",
       "         -1.47372318e+00, -1.31288235e+00],\n",
       "        [ 0.00000000e+00,  0.00000000e+00,  1.35703570e+00,\n",
       "          1.22247130e+00,  1.23172705e+00],\n",
       "        [ 0.00000000e+00,  0.00000000e+00,  0.00000000e+00,\n",
       "          8.81784892e-01,  5.33116912e-01],\n",
       "        [ 0.00000000e+00,  0.00000000e+00,  0.00000000e+00,\n",
       "          0.00000000e+00,  7.34718358e-02]]))"
      ]
     },
     "execution_count": 36,
     "metadata": {},
     "output_type": "execute_result"
    }
   ],
   "source": [
    "QR_Decomposition(A)"
   ]
  },
  {
   "cell_type": "code",
   "execution_count": 39,
   "metadata": {},
   "outputs": [
    {
     "data": {
      "text/plain": [
       "array([[-7.34099782e-01,  2.66652690e-02,  6.78517850e-01,\n",
       "        -7.67290867e-16,  2.74528934e-16],\n",
       "       [-5.40915629e-01, -5.79162849e-01, -5.62464955e-01,\n",
       "        -1.84448932e-01, -1.46943672e-01],\n",
       "       [-3.55458842e-01,  4.32079264e-01, -4.01557259e-01,\n",
       "         4.71237270e-01,  5.51038769e-01],\n",
       "       [-1.93184153e-01,  6.05828118e-01, -2.32817772e-01,\n",
       "        -4.04597656e-02, -7.34718358e-01],\n",
       "       [-6.95462951e-02,  3.31872202e-01, -8.82856385e-02,\n",
       "        -8.61555009e-01,  3.67359179e-01]])"
      ]
     },
     "execution_count": 39,
     "metadata": {},
     "output_type": "execute_result"
    }
   ],
   "source": [
    "Q"
   ]
  },
  {
   "cell_type": "code",
   "execution_count": 40,
   "metadata": {},
   "outputs": [
    {
     "data": {
      "text/plain": [
       "array([[-1.29410201e+02, -7.35722529e+01, -3.66354428e+01,\n",
       "        -9.24965725e+00, -1.47129051e+01],\n",
       "       [ 0.00000000e+00, -3.51573929e-01,  1.00139125e+00,\n",
       "         1.47372318e+00,  1.31288235e+00],\n",
       "       [ 0.00000000e+00,  0.00000000e+00, -1.35703570e+00,\n",
       "        -1.22247130e+00, -1.23172705e+00],\n",
       "       [ 0.00000000e+00,  0.00000000e+00,  0.00000000e+00,\n",
       "        -8.81784892e-01, -5.33116912e-01],\n",
       "       [ 0.00000000e+00,  0.00000000e+00,  0.00000000e+00,\n",
       "         0.00000000e+00, -7.34718358e-02]])"
      ]
     },
     "execution_count": 40,
     "metadata": {},
     "output_type": "execute_result"
    }
   ],
   "source": [
    "R"
   ]
  },
  {
   "cell_type": "code",
   "execution_count": 41,
   "metadata": {},
   "outputs": [
    {
     "data": {
      "text/plain": [
       "array([[95., 54., 26.,  6., 10.],\n",
       "       [70., 40., 20.,  5.,  8.],\n",
       "       [46., 26., 14.,  4.,  6.],\n",
       "       [25., 14.,  8.,  3.,  4.],\n",
       "       [ 9.,  5.,  3.,  2.,  2.]])"
      ]
     },
     "execution_count": 41,
     "metadata": {},
     "output_type": "execute_result"
    }
   ],
   "source": [
    "Q @ R"
   ]
  },
  {
   "cell_type": "code",
   "execution_count": null,
   "metadata": {},
   "outputs": [],
   "source": []
  },
  {
   "cell_type": "code",
   "execution_count": 13,
   "metadata": {},
   "outputs": [
    {
     "data": {
      "text/plain": [
       "[[3, 7, 13, 21, 31, 43, 57, 73, 91],\n",
       " [7, 12, 19, 28, 39, 52, 67, 84, 103],\n",
       " [13, 19, 27, 37, 49, 63, 79, 97, 117],\n",
       " [21, 28, 37, 48, 61, 76, 93, 112, 133],\n",
       " [31, 39, 49, 61, 75, 91, 109, 129, 151],\n",
       " [43, 52, 63, 76, 91, 108, 127, 148, 171],\n",
       " [57, 67, 79, 93, 109, 127, 147, 169, 193],\n",
       " [73, 84, 97, 112, 129, 148, 169, 192, 217],\n",
       " [91, 103, 117, 133, 151, 171, 193, 217, 243]]"
      ]
     },
     "execution_count": 13,
     "metadata": {},
     "output_type": "execute_result"
    }
   ],
   "source": [
    "[[i*j+ i*i + j*j for i in range(1,10)] \n",
    "for j in range(1,10)]"
   ]
  },
  {
   "cell_type": "code",
   "execution_count": null,
   "metadata": {},
   "outputs": [],
   "source": []
  },
  {
   "cell_type": "code",
   "execution_count": null,
   "metadata": {},
   "outputs": [],
   "source": []
  },
  {
   "cell_type": "code",
   "execution_count": 14,
   "metadata": {},
   "outputs": [
    {
     "data": {
      "text/plain": [
       "array([[1., 0., 0., 0., 0.],\n",
       "       [0., 1., 0., 0., 0.],\n",
       "       [0., 0., 1., 0., 0.],\n",
       "       [0., 0., 0., 1., 0.],\n",
       "       [0., 0., 0., 0., 1.]])"
      ]
     },
     "execution_count": 14,
     "metadata": {},
     "output_type": "execute_result"
    }
   ],
   "source": [
    "np.eye(5, dtype=np.double)"
   ]
  },
  {
   "cell_type": "code",
   "execution_count": 32,
   "metadata": {},
   "outputs": [],
   "source": [
    "A = np.array([[95, 54, 26, 6, 10],[70, 40, 20, 5, 8],\n",
    "             [46, 26, 14, 4, 6],[25, 14, 8, 3, 4],\n",
    "             [9, 5, 3, 2, 2]])"
   ]
  },
  {
   "cell_type": "code",
   "execution_count": 33,
   "metadata": {},
   "outputs": [],
   "source": [
    "def doolittle(A):\n",
    "    \n",
    "    n = A.shape[0]\n",
    "    U = np.zeros((n, n), dtype=np.double)\n",
    "    L = np.eye(n, dtype=np.double)\n",
    "    for k in range(n):\n",
    "        U[k, k:] = A[k, k:] - L[k,:k] @ U[:k,k:]\n",
    "        \n",
    "        L[(k+1):,k] = (A[(k+1):,k] - L[(k+1):,:] @ U[:,k]) / U[k, k]\n",
    "    return L, U\n"
   ]
  },
  {
   "cell_type": "code",
   "execution_count": 39,
   "metadata": {},
   "outputs": [
    {
     "data": {
      "text/plain": [
       "(array([[1., 0.],\n",
       "        [2., 1.]]),\n",
       " array([[ 2.,  3.],\n",
       "        [ 0., -1.]]))"
      ]
     },
     "execution_count": 39,
     "metadata": {},
     "output_type": "execute_result"
    }
   ],
   "source": [
    "doolittle(a)"
   ]
  },
  {
   "cell_type": "code",
   "execution_count": 35,
   "metadata": {},
   "outputs": [],
   "source": [
    "a = np.array([[2, 3],[4,5]])\n",
    "\n",
    "A ,L , U = lg.lu(a)"
   ]
  },
  {
   "cell_type": "code",
   "execution_count": 36,
   "metadata": {},
   "outputs": [
    {
     "data": {
      "text/plain": [
       "array([[1. , 0. ],\n",
       "       [0.5, 1. ]])"
      ]
     },
     "execution_count": 36,
     "metadata": {},
     "output_type": "execute_result"
    }
   ],
   "source": [
    "L"
   ]
  },
  {
   "cell_type": "code",
   "execution_count": 37,
   "metadata": {},
   "outputs": [
    {
     "data": {
      "text/plain": [
       "array([[4. , 5. ],\n",
       "       [0. , 0.5]])"
      ]
     },
     "execution_count": 37,
     "metadata": {},
     "output_type": "execute_result"
    }
   ],
   "source": [
    "U"
   ]
  },
  {
   "cell_type": "code",
   "execution_count": 38,
   "metadata": {},
   "outputs": [
    {
     "data": {
      "text/plain": [
       "array([[2, 3],\n",
       "       [4, 5]])"
      ]
     },
     "execution_count": 38,
     "metadata": {},
     "output_type": "execute_result"
    }
   ],
   "source": [
    "np.array([[2, 3],[4,5]])"
   ]
  },
  {
   "cell_type": "code",
   "execution_count": 89,
   "metadata": {},
   "outputs": [],
   "source": [
    "import scipy\n",
    "A = np.array([[95, 54, 26, 6, 10],[70, 40, 20, 5, 8],\n",
    "             [46, 26, 14, 4, 6],[25, 14, 8, 3, 4],\n",
    "             [9, 5, 3, 2, 2]])"
   ]
  },
  {
   "cell_type": "markdown",
   "metadata": {},
   "source": [
    "### QR"
   ]
  },
  {
   "cell_type": "code",
   "execution_count": 90,
   "metadata": {},
   "outputs": [],
   "source": [
    "Q, R = lg.qr(A)"
   ]
  },
  {
   "cell_type": "code",
   "execution_count": 91,
   "metadata": {},
   "outputs": [
    {
     "data": {
      "text/plain": [
       "array([[-7.34099782e-01,  2.66652690e-02,  6.78517850e-01,\n",
       "        -7.67290867e-16,  2.74528934e-16],\n",
       "       [-5.40915629e-01, -5.79162849e-01, -5.62464955e-01,\n",
       "        -1.84448932e-01, -1.46943672e-01],\n",
       "       [-3.55458842e-01,  4.32079264e-01, -4.01557259e-01,\n",
       "         4.71237270e-01,  5.51038769e-01],\n",
       "       [-1.93184153e-01,  6.05828118e-01, -2.32817772e-01,\n",
       "        -4.04597656e-02, -7.34718358e-01],\n",
       "       [-6.95462951e-02,  3.31872202e-01, -8.82856385e-02,\n",
       "        -8.61555009e-01,  3.67359179e-01]])"
      ]
     },
     "execution_count": 91,
     "metadata": {},
     "output_type": "execute_result"
    }
   ],
   "source": [
    "Q"
   ]
  },
  {
   "cell_type": "code",
   "execution_count": 92,
   "metadata": {},
   "outputs": [
    {
     "data": {
      "text/plain": [
       "array([[-1.29410201e+02, -7.35722529e+01, -3.66354428e+01,\n",
       "        -9.24965725e+00, -1.47129051e+01],\n",
       "       [ 0.00000000e+00, -3.51573929e-01,  1.00139125e+00,\n",
       "         1.47372318e+00,  1.31288235e+00],\n",
       "       [ 0.00000000e+00,  0.00000000e+00, -1.35703570e+00,\n",
       "        -1.22247130e+00, -1.23172705e+00],\n",
       "       [ 0.00000000e+00,  0.00000000e+00,  0.00000000e+00,\n",
       "        -8.81784892e-01, -5.33116912e-01],\n",
       "       [ 0.00000000e+00,  0.00000000e+00,  0.00000000e+00,\n",
       "         0.00000000e+00, -7.34718358e-02]])"
      ]
     },
     "execution_count": 92,
     "metadata": {},
     "output_type": "execute_result"
    }
   ],
   "source": [
    "R"
   ]
  },
  {
   "cell_type": "code",
   "execution_count": null,
   "metadata": {},
   "outputs": [],
   "source": []
  },
  {
   "cell_type": "code",
   "execution_count": null,
   "metadata": {},
   "outputs": [],
   "source": []
  },
  {
   "cell_type": "code",
   "execution_count": 34,
   "metadata": {
    "tags": []
   },
   "outputs": [
    {
     "data": {
      "text/plain": [
       "(array([[ 7.34099782e-01, -2.66652690e-02, -6.78517850e-01,\n",
       "         -5.76776913e-13, -2.65706521e-12],\n",
       "        [ 5.40915629e-01,  5.79162849e-01,  5.62464955e-01,\n",
       "          1.84448932e-01,  1.46943672e-01],\n",
       "        [ 3.55458842e-01, -4.32079264e-01,  4.01557259e-01,\n",
       "         -4.71237270e-01, -5.51038769e-01],\n",
       "        [ 1.93184153e-01, -6.05828118e-01,  2.32817772e-01,\n",
       "          4.04597656e-02,  7.34718358e-01],\n",
       "        [ 6.95462951e-02, -3.31872202e-01,  8.82856385e-02,\n",
       "          8.61555009e-01, -3.67359179e-01]]),\n",
       " array([[ 1.29410201e+02,  7.35722529e+01,  3.66354428e+01,\n",
       "          9.24965725e+00,  1.47129051e+01],\n",
       "        [ 0.00000000e+00,  3.51573929e-01, -1.00139125e+00,\n",
       "         -1.47372318e+00, -1.31288235e+00],\n",
       "        [ 0.00000000e+00,  0.00000000e+00,  1.35703570e+00,\n",
       "          1.22247130e+00,  1.23172705e+00],\n",
       "        [ 0.00000000e+00,  0.00000000e+00,  0.00000000e+00,\n",
       "          8.81784892e-01,  5.33116912e-01],\n",
       "        [ 0.00000000e+00,  0.00000000e+00,  0.00000000e+00,\n",
       "          0.00000000e+00,  7.34718358e-02]]))"
      ]
     },
     "execution_count": 34,
     "metadata": {},
     "output_type": "execute_result"
    }
   ],
   "source": [
    "QR_Decomposition(A)"
   ]
  }
 ],
 "metadata": {
  "kernelspec": {
   "display_name": "Python 3 (ipykernel)",
   "language": "python",
   "name": "python3"
  },
  "language_info": {
   "codemirror_mode": {
    "name": "ipython",
    "version": 3
   },
   "file_extension": ".py",
   "mimetype": "text/x-python",
   "name": "python",
   "nbconvert_exporter": "python",
   "pygments_lexer": "ipython3",
   "version": "3.9.15"
  },
  "vscode": {
   "interpreter": {
    "hash": "22705ef27b5704e2eb50670cf34b5b08ae6ca88e8f64287abd7aaebbf34523ad"
   }
  }
 },
 "nbformat": 4,
 "nbformat_minor": 4
}
