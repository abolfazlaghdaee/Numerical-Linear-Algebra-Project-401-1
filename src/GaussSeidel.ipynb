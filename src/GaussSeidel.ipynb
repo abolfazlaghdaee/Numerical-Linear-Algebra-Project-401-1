{
 "cells": [
  {
   "cell_type": "markdown",
   "id": "68b0b311-4b11-44cf-9652-2708754c65f0",
   "metadata": {},
   "source": [
    "# Gauss Seidel method"
   ]
  },
  {
   "cell_type": "markdown",
   "id": "ac3051f7-14bc-4590-a4c2-36d1e90589c3",
   "metadata": {},
   "source": [
    ">In numerical linear algebra, the Gauss–Seidel method, also known as the Liebmann method or the method of successive displacement, is an iterative method used to solve a system of linear equations. It is named after the German mathematicians Carl Friedrich Gauss and Philipp Ludwig von Seidel, and is similar to the Jacobi method. Though it can be applied to any matrix with non-zero elements on the diagonals, convergence is only guaranteed if the matrix is either strictly diagonally dominant, or symmetric and positive definite. It was only mentioned in a private letter from Gauss to his student Gerling in 1823. A publication was not delivered before 1874 by Seidel."
   ]
  },
  {
   "attachments": {
    "aba63872-1fbb-4a00-87bd-1ae3e0bc707f.png": {
     "image/png": "[encoded data removed]"
    }
   },
   "cell_type": "markdown",
   "id": "9ccffea8-6709-4dfd-a44d-855f1377fabc",
   "metadata": {},
   "source": [
    "![images.png](attachment:aba63872-1fbb-4a00-87bd-1ae3e0bc707f.png)"
   ]
  },
  {
   "attachments": {
    "bbb9e22c-b92d-4b54-826a-1997d8ebe9cf.png": {
     "image/png": "[encoded data removed]"
    }
   },
   "cell_type": "markdown",
   "id": "2e2c5ede-62e3-46ca-8fee-7b8c02cc06c9",
   "metadata": {},
   "source": [
    "![images.png](attachment:bbb9e22c-b92d-4b54-826a-1997d8ebe9cf.png)"
   ]
  },
  {
   "cell_type": "code",
   "execution_count": 7,
   "id": "39156d0f-2c69-4129-a3fa-a3bbd5c924f7",
   "metadata": {},
   "outputs": [],
   "source": [
    "import numpy as np \n",
    "import scipy.linalg as lg "
   ]
  },
  {
   "cell_type": "code",
   "execution_count": 8,
   "id": "30643926-3107-4cc1-9227-5f01e4e21fac",
   "metadata": {},
   "outputs": [],
   "source": [
    "A  = lg.toeplitz([4,-1,0,0, 0, 0, 0, 0, 0,0],[0, -1,0,0,0,0,0,0,0 ,0 ])"
   ]
  },
  {
   "cell_type": "code",
   "execution_count": 9,
   "id": "95f144bb-195d-4a4c-b7bf-e1213844b142",
   "metadata": {},
   "outputs": [
    {
     "data": {
      "text/plain": [
       "array([[ 4, -1,  0,  0,  0,  0,  0,  0,  0,  0],\n",
       "       [-1,  4, -1,  0,  0,  0,  0,  0,  0,  0],\n",
       "       [ 0, -1,  4, -1,  0,  0,  0,  0,  0,  0],\n",
       "       [ 0,  0, -1,  4, -1,  0,  0,  0,  0,  0],\n",
       "       [ 0,  0,  0, -1,  4, -1,  0,  0,  0,  0],\n",
       "       [ 0,  0,  0,  0, -1,  4, -1,  0,  0,  0],\n",
       "       [ 0,  0,  0,  0,  0, -1,  4, -1,  0,  0],\n",
       "       [ 0,  0,  0,  0,  0,  0, -1,  4, -1,  0],\n",
       "       [ 0,  0,  0,  0,  0,  0,  0, -1,  4, -1],\n",
       "       [ 0,  0,  0,  0,  0,  0,  0,  0, -1,  4]])"
      ]
     },
     "execution_count": 9,
     "metadata": {},
     "output_type": "execute_result"
    }
   ],
   "source": [
    "A"
   ]
  },
  {
   "cell_type": "code",
   "execution_count": 11,
   "id": "cd4fd33b-f902-484e-bcbb-eb8750bd9192",
   "metadata": {},
   "outputs": [],
   "source": [
    "  \n",
    "def Gauss(a,x ,b):\n",
    "    \n",
    "    n = a.shape[0]         \n",
    "   \n",
    "    for j in range(0, n):        \n",
    "        \n",
    "        d = b[j]                  \n",
    "          \n",
    "       \n",
    "        for i in range(0, n):     \n",
    "            if(j != i):\n",
    "                d-=a[j][i]* x[i]\n",
    "             \n",
    "        x[j] = d /a[j][j]\n",
    "             \n",
    "    return x "
   ]
  },
  {
   "cell_type": "code",
   "execution_count": 16,
   "id": "83103933-3095-4399-a324-30a585bd5a01",
   "metadata": {},
   "outputs": [],
   "source": [
    "b = np.array([2, 4, 6, 8, 10, 12, 14, 16, 18, 31])"
   ]
  },
  {
   "cell_type": "code",
   "execution_count": 26,
   "id": "5f058587-0985-4c33-bef0-e06cf20cce51",
   "metadata": {},
   "outputs": [
    {
     "name": "stdout",
     "output_type": "stream",
     "text": [
      "repeat  13\n",
      "[ 0.99999831  1.99999831  2.99999877  3.99999924  4.99999958  5.99999979\n",
      "  6.9999999   7.99999996  8.99999999 10.        ]\n"
     ]
    }
   ],
   "source": [
    "x = [0,0,0,0,0,0,0,0,0,0]   #FIRST GUESS\n",
    "\n",
    "\n",
    "for i in range(0, 100): \n",
    "   \n",
    "    v1= np.array(x) \n",
    "    # print('v1 = ',v1)\n",
    "   \n",
    "\n",
    "    x = Guess(A, x, b)\n",
    "    \n",
    "    v2 = np.array(x)\n",
    "    nor = lg.norm(v2 - v1, np.inf)\n",
    "    if nor < 0.00001:\n",
    "        print(f\"repeat  {i+1}\")\n",
    "        \n",
    "        # print('##################')\n",
    "        # print(nor)\n",
    "        \n",
    "        print(v2)\n",
    "        break"
   ]
  }
 ],
 "metadata": {
  "kernelspec": {
   "display_name": "nla",
   "language": "python",
   "name": "python3"
  },
  "language_info": {
   "codemirror_mode": {
    "name": "ipython",
    "version": 3
   },
   "file_extension": ".py",
   "mimetype": "text/x-python",
   "name": "python",
   "nbconvert_exporter": "python",
   "pygments_lexer": "ipython3",
   "version": "3.9.15"
  },
  "vscode": {
   "interpreter": {
    "hash": "22705ef27b5704e2eb50670cf34b5b08ae6ca88e8f64287abd7aaebbf34523ad"
   }
  }
 },
 "nbformat": 4,
 "nbformat_minor": 5
}
