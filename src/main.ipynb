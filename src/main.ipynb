{
 "cells": [
  {
   "cell_type": "code",
   "execution_count": 1,
   "metadata": {},
   "outputs": [],
   "source": [
    "import numpy as np \n",
    "import scipy.linalg as lg "
   ]
  },
  {
   "cell_type": "markdown",
   "metadata": {},
   "source": [
    "## LU Decoposition\n",
    "\n",
    "  \\begin{bmatrix}a_{11}&a_{12}&a_{13}\\\\a_{21}&a_{22}&a_{23}\\\\a_{31}&a_{32}&a_{33}\\end{bmatrix} \n",
    " \n",
    "\\begin{bmatrix}\\ell _{11}&0&0\\\\\\ell _{21}&\\ell _{22}&0\\\\\\ell _{31}&\\ell _{32}&\\ell _{33}\\end{bmatrix}\n",
    "\n",
    "\\begin{bmatrix}u_{11}&u_{12}&u_{13}\\\\0&u_{22}&u_{23}\\\\0&0&u_{33}\\end{bmatrix}"
   ]
  },
  {
   "attachments": {
    "79898102-107f-4bd5-9fcd-70f057773c5e.webp": {
     "image/webp": "[encoded data removed]"
    },
    "d34e8f03-5b06-43db-b9ae-41178d657cf9.webp": {
     "image/webp": "[encoded data removed]"
    }
   },
   "cell_type": "markdown",
   "metadata": {},
   "source": [
    " - Let A be a square matrix. An LU factorization refers to the factorization of A, with proper row and/or column orderings or permutations, into two factors – a lower triangular matrix L and an upper triangular matrix U:\n",
    " \n",
    " ![1_cVvjpWMfDrAXVQX3rsXpcQ.webp](attachment:d34e8f03-5b06-43db-b9ae-41178d657cf9.webp)\n",
    "\n",
    "![1_JHNxY1XEExs_8q9Gz1DgpQ.webp](attachment:79898102-107f-4bd5-9fcd-70f057773c5e.webp)\n",
    "\n",
    "\n",
    " "
   ]
  },
  {
   "cell_type": "code",
   "execution_count": 2,
   "metadata": {},
   "outputs": [],
   "source": [
    "A = np.array([[95, 54, 26, 6, 10],[70, 40, 20, 5, 8],\n",
    "             [46, 26, 14, 4, 6],[25, 14, 8, 3, 4],\n",
    "             [9, 5, 3, 2, 2]])"
   ]
  },
  {
   "cell_type": "code",
   "execution_count": 3,
   "metadata": {},
   "outputs": [
    {
     "data": {
      "text/plain": [
       "array([[95, 54, 26,  6, 10],\n",
       "       [70, 40, 20,  5,  8],\n",
       "       [46, 26, 14,  4,  6],\n",
       "       [25, 14,  8,  3,  4],\n",
       "       [ 9,  5,  3,  2,  2]])"
      ]
     },
     "execution_count": 3,
     "metadata": {},
     "output_type": "execute_result"
    }
   ],
   "source": [
    "A"
   ]
  },
  {
   "cell_type": "code",
   "execution_count": 4,
   "metadata": {},
   "outputs": [],
   "source": [
    "A, L, U = lg.lu(A)"
   ]
  },
  {
   "cell_type": "code",
   "execution_count": 5,
   "metadata": {},
   "outputs": [
    {
     "data": {
      "text/plain": [
       "array([[1., 0., 0., 0., 0.],\n",
       "       [0., 1., 0., 0., 0.],\n",
       "       [0., 0., 1., 0., 0.],\n",
       "       [0., 0., 0., 0., 1.],\n",
       "       [0., 0., 0., 1., 0.]])"
      ]
     },
     "execution_count": 5,
     "metadata": {},
     "output_type": "execute_result"
    }
   ],
   "source": [
    "A\n"
   ]
  },
  {
   "cell_type": "code",
   "execution_count": 6,
   "metadata": {},
   "outputs": [
    {
     "data": {
      "text/plain": [
       "array([[ 1.        ,  0.        ,  0.        ,  0.        ,  0.        ],\n",
       "       [ 0.73684211,  1.        ,  0.        ,  0.        ,  0.        ],\n",
       "       [ 0.48421053, -0.7       ,  1.        ,  0.        ,  0.        ],\n",
       "       [ 0.09473684, -0.55      ,  0.5       ,  1.        ,  0.        ],\n",
       "       [ 0.26315789, -1.        ,  1.        ,  0.5       ,  1.        ]])"
      ]
     },
     "execution_count": 6,
     "metadata": {},
     "output_type": "execute_result"
    }
   ],
   "source": [
    "L"
   ]
  },
  {
   "cell_type": "code",
   "execution_count": 7,
   "metadata": {},
   "outputs": [
    {
     "data": {
      "text/plain": [
       "array([[95.        , 54.        , 26.        ,  6.        , 10.        ],\n",
       "       [ 0.        ,  0.21052632,  0.84210526,  0.57894737,  0.63157895],\n",
       "       [ 0.        ,  0.        ,  2.        ,  1.5       ,  1.6       ],\n",
       "       [ 0.        ,  0.        ,  0.        ,  1.        ,  0.6       ],\n",
       "       [ 0.        ,  0.        ,  0.        ,  0.        ,  0.1       ]])"
      ]
     },
     "execution_count": 7,
     "metadata": {},
     "output_type": "execute_result"
    }
   ],
   "source": [
    "U"
   ]
  },
  {
   "cell_type": "code",
   "execution_count": 8,
   "metadata": {},
   "outputs": [
    {
     "data": {
      "text/plain": [
       "array([[95., 54., 26.,  6., 10.],\n",
       "       [70., 40., 20.,  5.,  8.],\n",
       "       [46., 26., 14.,  4.,  6.],\n",
       "       [ 9.,  5.,  3.,  2.,  2.],\n",
       "       [25., 14.,  8.,  3.,  4.]])"
      ]
     },
     "execution_count": 8,
     "metadata": {},
     "output_type": "execute_result"
    }
   ],
   "source": [
    "L @ U"
   ]
  },
  {
   "cell_type": "code",
   "execution_count": 18,
   "metadata": {},
   "outputs": [],
   "source": [
    "A = np.array([[2,3],[4,5]])"
   ]
  },
  {
   "cell_type": "code",
   "execution_count": 43,
   "metadata": {},
   "outputs": [
    {
     "ename": "NameError",
     "evalue": "name 'a' is not defined",
     "output_type": "error",
     "traceback": [
      "\u001b[0;31m---------------------------------------------------------------------------\u001b[0m",
      "\u001b[0;31mNameError\u001b[0m                                 Traceback (most recent call last)",
      "Cell \u001b[0;32mIn[43], line 1\u001b[0m\n\u001b[0;32m----> 1\u001b[0m u \u001b[38;5;241m=\u001b[39m np\u001b[38;5;241m.\u001b[39mzeros((\u001b[43ma\u001b[49m\u001b[38;5;241m.\u001b[39mshape[\u001b[38;5;241m0\u001b[39m], a\u001b[38;5;241m.\u001b[39mshape[\u001b[38;5;241m0\u001b[39m]), dtype\u001b[38;5;241m=\u001b[39mnp\u001b[38;5;241m.\u001b[39mdouble)\n\u001b[1;32m      2\u001b[0m l \u001b[38;5;241m=\u001b[39m np\u001b[38;5;241m.\u001b[39meye(n, dtype\u001b[38;5;241m=\u001b[39mnp\u001b[38;5;241m.\u001b[39mdouble)\n\u001b[1;32m      4\u001b[0m \u001b[38;5;28;01mdef\u001b[39;00m \u001b[38;5;21mfirstQ1\u001b[39m(A):\n",
      "\u001b[0;31mNameError\u001b[0m: name 'a' is not defined"
     ]
    }
   ],
   "source": [
    "\n",
    "u = np.zeros((a.shape[0], a.shape[0]), dtype=np.double)\n",
    "l = np.eye(n, dtype=np.double)\n",
    "\n",
    "def firstQ1(A):\n",
    "    \n",
    "    n = A.shape[0]\n",
    "    for k in range(n):\n",
    "        u[k, k:] = A[k, k:] - l[k,:k] @ u[:k,k:]\n",
    "        \n",
    "        l[(k+1):,k] = (A[(k+1):,k] - l[(k+1):,:] @ u[:,k]) / u[k, k]\n",
    "        \n",
    "        \n",
    "        \n",
    "    return l,u\n"
   ]
  },
  {
   "cell_type": "code",
   "execution_count": 44,
   "metadata": {},
   "outputs": [
    {
     "data": {
      "text/plain": [
       "(array([[1., 0.],\n",
       "        [2., 1.]]),\n",
       " array([[ 2.,  3.],\n",
       "        [ 0., -1.]]))"
      ]
     },
     "execution_count": 44,
     "metadata": {},
     "output_type": "execute_result"
    }
   ],
   "source": [
    "firstQ1(A)"
   ]
  },
  {
   "cell_type": "code",
   "execution_count": 45,
   "metadata": {},
   "outputs": [
    {
     "ename": "NameError",
     "evalue": "name 'l' is not defined",
     "output_type": "error",
     "traceback": [
      "\u001b[0;31m---------------------------------------------------------------------------\u001b[0m",
      "\u001b[0;31mNameError\u001b[0m                                 Traceback (most recent call last)",
      "Cell \u001b[0;32mIn[45], line 1\u001b[0m\n\u001b[0;32m----> 1\u001b[0m \u001b[43ml\u001b[49m\u001b[38;5;129m@u\u001b[39m\n",
      "\u001b[0;31mNameError\u001b[0m: name 'l' is not defined"
     ]
    }
   ],
   "source": [
    "l@u"
   ]
  },
  {
   "cell_type": "code",
   "execution_count": 30,
   "metadata": {},
   "outputs": [],
   "source": [
    "\n",
    "\n",
    "def luDecomposition(mat, n):\n",
    " \n",
    "    lower = [[0 for x in range(n)]\n",
    "             for y in range(n)]\n",
    "    upper = [[0 for x in range(n)]\n",
    "             for y in range(n)]\n",
    " \n",
    "    # Decomposing matrix into Upper\n",
    "    # and Lower triangular matrix\n",
    "    for i in range(n):\n",
    " \n",
    "        # Upper Triangular\n",
    "        for k in range(i, n):\n",
    " \n",
    "            # Summation of L(i, j) * U(j, k)\n",
    "            sum = 0\n",
    "            for j in range(i):\n",
    "                sum += (lower[i][j] * upper[j][k])\n",
    " \n",
    "            # Evaluating U(i, k)\n",
    "            upper[i][k] = mat[i][k] - sum\n",
    " \n",
    "        # Lower Triangular\n",
    "        for k in range(i, n):\n",
    "            if (i == k):\n",
    "                lower[i][i] = 1  # Diagonal as 1\n",
    "            else:\n",
    " \n",
    "                # Summation of L(k, j) * U(j, i)\n",
    "                sum = 0\n",
    "                for j in range(i):\n",
    "                    sum += (lower[k][j] * upper[j][i])\n",
    " \n",
    "                # Evaluating L(k, i)\n",
    "                lower[k][i] = int((mat[k][i] - sum) /\n",
    "                                  upper[i][i])\n",
    "\n",
    "\n",
    "\n",
    "\n",
    "    return lower,\" fdfd \" ,upper"
   ]
  },
  {
   "cell_type": "code",
   "execution_count": 11,
   "metadata": {},
   "outputs": [
    {
     "name": "stderr",
     "output_type": "stream",
     "text": [
      "/tmp/ipykernel_717/3886181943.py:35: RuntimeWarning: divide by zero encountered in scalar divide\n",
      "  lower[k][i] = int((mat[k][i] - sum) /\n"
     ]
    },
    {
     "ename": "OverflowError",
     "evalue": "cannot convert float infinity to integer",
     "output_type": "error",
     "traceback": [
      "\u001b[0;31m---------------------------------------------------------------------------\u001b[0m",
      "\u001b[0;31mOverflowError\u001b[0m                             Traceback (most recent call last)",
      "Cell \u001b[0;32mIn[11], line 1\u001b[0m\n\u001b[0;32m----> 1\u001b[0m \u001b[43mluDecomposition\u001b[49m\u001b[43m(\u001b[49m\u001b[43mA\u001b[49m\u001b[43m,\u001b[49m\u001b[38;5;241;43m5\u001b[39;49m\u001b[43m)\u001b[49m\n",
      "Cell \u001b[0;32mIn[10], line 35\u001b[0m, in \u001b[0;36mluDecomposition\u001b[0;34m(mat, n)\u001b[0m\n\u001b[1;32m     32\u001b[0m                 \u001b[38;5;28msum\u001b[39m \u001b[38;5;241m+\u001b[39m\u001b[38;5;241m=\u001b[39m (lower[k][j] \u001b[38;5;241m*\u001b[39m upper[j][i])\n\u001b[1;32m     34\u001b[0m             \u001b[38;5;66;03m# Evaluating L(k, i)\u001b[39;00m\n\u001b[0;32m---> 35\u001b[0m             lower[k][i] \u001b[38;5;241m=\u001b[39m \u001b[38;5;28;43mint\u001b[39;49m\u001b[43m(\u001b[49m\u001b[43m(\u001b[49m\u001b[43mmat\u001b[49m\u001b[43m[\u001b[49m\u001b[43mk\u001b[49m\u001b[43m]\u001b[49m\u001b[43m[\u001b[49m\u001b[43mi\u001b[49m\u001b[43m]\u001b[49m\u001b[43m \u001b[49m\u001b[38;5;241;43m-\u001b[39;49m\u001b[43m \u001b[49m\u001b[38;5;28;43msum\u001b[39;49m\u001b[43m)\u001b[49m\u001b[43m \u001b[49m\u001b[38;5;241;43m/\u001b[39;49m\n\u001b[1;32m     36\u001b[0m \u001b[43m                              \u001b[49m\u001b[43mupper\u001b[49m\u001b[43m[\u001b[49m\u001b[43mi\u001b[49m\u001b[43m]\u001b[49m\u001b[43m[\u001b[49m\u001b[43mi\u001b[49m\u001b[43m]\u001b[49m\u001b[43m)\u001b[49m\n\u001b[1;32m     41\u001b[0m \u001b[38;5;28;01mreturn\u001b[39;00m lower,\u001b[38;5;124m\"\u001b[39m\u001b[38;5;124m fdfd \u001b[39m\u001b[38;5;124m\"\u001b[39m ,upper\n",
      "\u001b[0;31mOverflowError\u001b[0m: cannot convert float infinity to integer"
     ]
    }
   ],
   "source": [
    "luDecomposition(A,5)"
   ]
  },
  {
   "cell_type": "code",
   "execution_count": 12,
   "metadata": {},
   "outputs": [
    {
     "ename": "NameError",
     "evalue": "name 'upper' is not defined",
     "output_type": "error",
     "traceback": [
      "\u001b[0;31m---------------------------------------------------------------------------\u001b[0m",
      "\u001b[0;31mNameError\u001b[0m                                 Traceback (most recent call last)",
      "Cell \u001b[0;32mIn[12], line 1\u001b[0m\n\u001b[0;32m----> 1\u001b[0m \u001b[43mupper\u001b[49m\n",
      "\u001b[0;31mNameError\u001b[0m: name 'upper' is not defined"
     ]
    }
   ],
   "source": [
    "upper"
   ]
  },
  {
   "cell_type": "code",
   "execution_count": 13,
   "metadata": {},
   "outputs": [
    {
     "data": {
      "text/plain": [
       "[[3, 7, 13, 21, 31, 43, 57, 73, 91],\n",
       " [7, 12, 19, 28, 39, 52, 67, 84, 103],\n",
       " [13, 19, 27, 37, 49, 63, 79, 97, 117],\n",
       " [21, 28, 37, 48, 61, 76, 93, 112, 133],\n",
       " [31, 39, 49, 61, 75, 91, 109, 129, 151],\n",
       " [43, 52, 63, 76, 91, 108, 127, 148, 171],\n",
       " [57, 67, 79, 93, 109, 127, 147, 169, 193],\n",
       " [73, 84, 97, 112, 129, 148, 169, 192, 217],\n",
       " [91, 103, 117, 133, 151, 171, 193, 217, 243]]"
      ]
     },
     "execution_count": 13,
     "metadata": {},
     "output_type": "execute_result"
    }
   ],
   "source": [
    "[[i*j+ i*i + j*j for i in range(1,10)] \n",
    "for j in range(1,10)]"
   ]
  },
  {
   "cell_type": "code",
   "execution_count": 14,
   "metadata": {},
   "outputs": [
    {
     "data": {
      "text/plain": [
       "array([[1., 0., 0., 0., 0.],\n",
       "       [0., 1., 0., 0., 0.],\n",
       "       [0., 0., 1., 0., 0.],\n",
       "       [0., 0., 0., 1., 0.],\n",
       "       [0., 0., 0., 0., 1.]])"
      ]
     },
     "execution_count": 14,
     "metadata": {},
     "output_type": "execute_result"
    }
   ],
   "source": [
    "np.eye(5, dtype=np.double)"
   ]
  },
  {
   "cell_type": "code",
   "execution_count": 32,
   "metadata": {},
   "outputs": [],
   "source": [
    "A = np.array([[95, 54, 26, 6, 10],[70, 40, 20, 5, 8],\n",
    "             [46, 26, 14, 4, 6],[25, 14, 8, 3, 4],\n",
    "             [9, 5, 3, 2, 2]])"
   ]
  },
  {
   "cell_type": "code",
   "execution_count": 33,
   "metadata": {},
   "outputs": [],
   "source": [
    "def doolittle(A):\n",
    "    \n",
    "    n = A.shape[0]\n",
    "    U = np.zeros((n, n), dtype=np.double)\n",
    "    L = np.eye(n, dtype=np.double)\n",
    "    for k in range(n):\n",
    "        U[k, k:] = A[k, k:] - L[k,:k] @ U[:k,k:]\n",
    "        \n",
    "        L[(k+1):,k] = (A[(k+1):,k] - L[(k+1):,:] @ U[:,k]) / U[k, k]\n",
    "    return L, U\n"
   ]
  },
  {
   "cell_type": "code",
   "execution_count": 39,
   "metadata": {},
   "outputs": [
    {
     "data": {
      "text/plain": [
       "(array([[1., 0.],\n",
       "        [2., 1.]]),\n",
       " array([[ 2.,  3.],\n",
       "        [ 0., -1.]]))"
      ]
     },
     "execution_count": 39,
     "metadata": {},
     "output_type": "execute_result"
    }
   ],
   "source": [
    "doolittle(a)"
   ]
  },
  {
   "cell_type": "code",
   "execution_count": 93,
   "metadata": {},
   "outputs": [
    {
     "ename": "SyntaxError",
     "evalue": "invalid syntax (766809665.py, line 1)",
     "output_type": "error",
     "traceback": [
      "\u001b[0;36m  Cell \u001b[0;32mIn[93], line 1\u001b[0;36m\u001b[0m\n\u001b[0;31m    np.zeros((5, 5), dtype=np.double)<svg xmlns:xlink=\"http://www.w3.org/1999/xlink\" width=\"20.64ex\" height=\"7.343ex\" style=\"vertical-align: -3.005ex;\" viewBox=\"0 -1867.7 8886.6 3161.4\" role=\"img\" focusable=\"false\" xmlns=\"http://www.w3.org/2000/svg\" aria-labelledby=\"MathJax-SVG-1-Title\">\u001b[0m\n\u001b[0m                                          ^\u001b[0m\n\u001b[0;31mSyntaxError\u001b[0m\u001b[0;31m:\u001b[0m invalid syntax\n"
     ]
    }
   ],
   "source": [
    "np.zeros((5, 5), dtype=np.double)<svg xmlns:xlink=\"http://www.w3.org/1999/xlink\" width=\"20.64ex\" height=\"7.343ex\" style=\"vertical-align: -3.005ex;\" viewBox=\"0 -1867.7 8886.6 3161.4\" role=\"img\" focusable=\"false\" xmlns=\"http://www.w3.org/2000/svg\" aria-labelledby=\"MathJax-SVG-1-Title\">\n",
    "<title id=\"MathJax-SVG-1-Title\">{\\displaystyle u_{ij} = a_{ij} - \\sum_{k=1}^{i-1} u_{kj}l_{ik}}</title>\n",
    "<defs aria-hidden=\"true\">\n",
    "<path stroke-width=\"1\" id=\"E1-MJMATHI-75\" d=\"M21 287Q21 295 30 318T55 370T99 420T158 442Q204 442 227 417T250 358Q250 340 216 246T182 105Q182 62 196 45T238 27T291 44T328 78L339 95Q341 99 377 247Q407 367 413 387T427 416Q444 431 463 431Q480 431 488 421T496 402L420 84Q419 79 419 68Q419 43 426 35T447 26Q469 29 482 57T512 145Q514 153 532 153Q551 153 551 144Q550 139 549 130T540 98T523 55T498 17T462 -8Q454 -10 438 -10Q372 -10 347 46Q345 45 336 36T318 21T296 6T267 -6T233 -11Q189 -11 155 7Q103 38 103 113Q103 170 138 262T173 379Q173 380 173 381Q173 390 173 393T169 400T158 404H154Q131 404 112 385T82 344T65 302T57 280Q55 278 41 278H27Q21 284 21 287Z\"></path>\n",
    "<path stroke-width=\"1\" id=\"E1-MJMATHI-69\" d=\"M184 600Q184 624 203 642T247 661Q265 661 277 649T290 619Q290 596 270 577T226 557Q211 557 198 567T184 600ZM21 287Q21 295 30 318T54 369T98 420T158 442Q197 442 223 419T250 357Q250 340 236 301T196 196T154 83Q149 61 149 51Q149 26 166 26Q175 26 185 29T208 43T235 78T260 137Q263 149 265 151T282 153Q302 153 302 143Q302 135 293 112T268 61T223 11T161 -11Q129 -11 102 10T74 74Q74 91 79 106T122 220Q160 321 166 341T173 380Q173 404 156 404H154Q124 404 99 371T61 287Q60 286 59 284T58 281T56 279T53 278T49 278T41 278H27Q21 284 21 287Z\"></path>\n",
    "<path stroke-width=\"1\" id=\"E1-MJMATHI-6A\" d=\"M297 596Q297 627 318 644T361 661Q378 661 389 651T403 623Q403 595 384 576T340 557Q322 557 310 567T297 596ZM288 376Q288 405 262 405Q240 405 220 393T185 362T161 325T144 293L137 279Q135 278 121 278H107Q101 284 101 286T105 299Q126 348 164 391T252 441Q253 441 260 441T272 442Q296 441 316 432Q341 418 354 401T367 348V332L318 133Q267 -67 264 -75Q246 -125 194 -164T75 -204Q25 -204 7 -183T-12 -137Q-12 -110 7 -91T53 -71Q70 -71 82 -81T95 -112Q95 -148 63 -167Q69 -168 77 -168Q111 -168 139 -140T182 -74L193 -32Q204 11 219 72T251 197T278 308T289 365Q289 372 288 376Z\"></path>\n",
    "<path stroke-width=\"1\" id=\"E1-MJMAIN-3D\" d=\"M56 347Q56 360 70 367H707Q722 359 722 347Q722 336 708 328L390 327H72Q56 332 56 347ZM56 153Q56 168 72 173H708Q722 163 722 153Q722 140 707 133H70Q56 140 56 153Z\"></path>\n",
    "<path stroke-width=\"1\" id=\"E1-MJMATHI-61\" d=\"M33 157Q33 258 109 349T280 441Q331 441 370 392Q386 422 416 422Q429 422 439 414T449 394Q449 381 412 234T374 68Q374 43 381 35T402 26Q411 27 422 35Q443 55 463 131Q469 151 473 152Q475 153 483 153H487Q506 153 506 144Q506 138 501 117T481 63T449 13Q436 0 417 -8Q409 -10 393 -10Q359 -10 336 5T306 36L300 51Q299 52 296 50Q294 48 292 46Q233 -10 172 -10Q117 -10 75 30T33 157ZM351 328Q351 334 346 350T323 385T277 405Q242 405 210 374T160 293Q131 214 119 129Q119 126 119 118T118 106Q118 61 136 44T179 26Q217 26 254 59T298 110Q300 114 325 217T351 328Z\"></path>\n",
    "<path stroke-width=\"1\" id=\"E1-MJMAIN-2212\" d=\"M84 237T84 250T98 270H679Q694 262 694 250T679 230H98Q84 237 84 250Z\"></path>\n",
    "<path stroke-width=\"1\" id=\"E1-MJSZ2-2211\" d=\"M60 948Q63 950 665 950H1267L1325 815Q1384 677 1388 669H1348L1341 683Q1320 724 1285 761Q1235 809 1174 838T1033 881T882 898T699 902H574H543H251L259 891Q722 258 724 252Q725 250 724 246Q721 243 460 -56L196 -356Q196 -357 407 -357Q459 -357 548 -357T676 -358Q812 -358 896 -353T1063 -332T1204 -283T1307 -196Q1328 -170 1348 -124H1388Q1388 -125 1381 -145T1356 -210T1325 -294L1267 -449L666 -450Q64 -450 61 -448Q55 -446 55 -439Q55 -437 57 -433L590 177Q590 178 557 222T452 366T322 544L56 909L55 924Q55 945 60 948Z\"></path>\n",
    "<path stroke-width=\"1\" id=\"E1-MJMATHI-6B\" d=\"M121 647Q121 657 125 670T137 683Q138 683 209 688T282 694Q294 694 294 686Q294 679 244 477Q194 279 194 272Q213 282 223 291Q247 309 292 354T362 415Q402 442 438 442Q468 442 485 423T503 369Q503 344 496 327T477 302T456 291T438 288Q418 288 406 299T394 328Q394 353 410 369T442 390L458 393Q446 405 434 405H430Q398 402 367 380T294 316T228 255Q230 254 243 252T267 246T293 238T320 224T342 206T359 180T365 147Q365 130 360 106T354 66Q354 26 381 26Q429 26 459 145Q461 153 479 153H483Q499 153 499 144Q499 139 496 130Q455 -11 378 -11Q333 -11 305 15T277 90Q277 108 280 121T283 145Q283 167 269 183T234 206T200 217T182 220H180Q168 178 159 139T145 81T136 44T129 20T122 7T111 -2Q98 -11 83 -11Q66 -11 57 -1T48 16Q48 26 85 176T158 471L195 616Q196 629 188 632T149 637H144Q134 637 131 637T124 640T121 647Z\"></path>\n",
    "<path stroke-width=\"1\" id=\"E1-MJMAIN-31\" d=\"M213 578L200 573Q186 568 160 563T102 556H83V602H102Q149 604 189 617T245 641T273 663Q275 666 285 666Q294 666 302 660V361L303 61Q310 54 315 52T339 48T401 46H427V0H416Q395 3 257 3Q121 3 100 0H88V46H114Q136 46 152 46T177 47T193 50T201 52T207 57T213 61V578Z\"></path>\n",
    "<path stroke-width=\"1\" id=\"E1-MJMATHI-6C\" d=\"M117 59Q117 26 142 26Q179 26 205 131Q211 151 215 152Q217 153 225 153H229Q238 153 241 153T246 151T248 144Q247 138 245 128T234 90T214 43T183 6T137 -11Q101 -11 70 11T38 85Q38 97 39 102L104 360Q167 615 167 623Q167 626 166 628T162 632T157 634T149 635T141 636T132 637T122 637Q112 637 109 637T101 638T95 641T94 647Q94 649 96 661Q101 680 107 682T179 688Q194 689 213 690T243 693T254 694Q266 694 266 686Q266 675 193 386T118 83Q118 81 118 75T117 65V59Z\"></path>\n",
    "</defs>\n",
    "<g stroke=\"currentColor\" fill=\"currentColor\" stroke-width=\"0\" transform=\"matrix(1 0 0 -1 0 0)\" aria-hidden=\"true\">\n",
    " <use xlink:href=\"#E1-MJMATHI-75\" x=\"0\" y=\"0\"></use>\n",
    "<g transform=\"translate(572,-150)\">\n",
    " <use transform=\"scale(0.707)\" xlink:href=\"#E1-MJMATHI-69\" x=\"0\" y=\"0\"></use>\n",
    " <use transform=\"scale(0.707)\" xlink:href=\"#E1-MJMATHI-6A\" x=\"345\" y=\"0\"></use>\n",
    "</g>\n",
    " <use xlink:href=\"#E1-MJMAIN-3D\" x=\"1486\" y=\"0\"></use>\n",
    "<g transform=\"translate(2542,0)\">\n",
    " <use xlink:href=\"#E1-MJMATHI-61\" x=\"0\" y=\"0\"></use>\n",
    "<g transform=\"translate(529,-150)\">\n",
    " <use transform=\"scale(0.707)\" xlink:href=\"#E1-MJMATHI-69\" x=\"0\" y=\"0\"></use>\n",
    " <use transform=\"scale(0.707)\" xlink:href=\"#E1-MJMATHI-6A\" x=\"345\" y=\"0\"></use>\n",
    "</g>\n",
    "</g>\n",
    " <use xlink:href=\"#E1-MJMAIN-2212\" x=\"3930\" y=\"0\"></use>\n",
    "<g transform=\"translate(4930,0)\">\n",
    " <use xlink:href=\"#E1-MJSZ2-2211\" x=\"0\" y=\"0\"></use>\n",
    "<g transform=\"translate(85,-1110)\">\n",
    " <use transform=\"scale(0.707)\" xlink:href=\"#E1-MJMATHI-6B\" x=\"0\" y=\"0\"></use>\n",
    " <use transform=\"scale(0.707)\" xlink:href=\"#E1-MJMAIN-3D\" x=\"521\" y=\"0\"></use>\n",
    " <use transform=\"scale(0.707)\" xlink:href=\"#E1-MJMAIN-31\" x=\"1300\" y=\"0\"></use>\n",
    "</g>\n",
    "<g transform=\"translate(147,1151)\">\n",
    " <use transform=\"scale(0.707)\" xlink:href=\"#E1-MJMATHI-69\" x=\"0\" y=\"0\"></use>\n",
    " <use transform=\"scale(0.707)\" xlink:href=\"#E1-MJMAIN-2212\" x=\"345\" y=\"0\"></use>\n",
    " <use transform=\"scale(0.707)\" xlink:href=\"#E1-MJMAIN-31\" x=\"1124\" y=\"0\"></use>\n",
    "</g>\n",
    "</g>\n",
    "<g transform=\"translate(6542,0)\">\n",
    " <use xlink:href=\"#E1-MJMATHI-75\" x=\"0\" y=\"0\"></use>\n",
    "<g transform=\"translate(572,-150)\">\n",
    " <use transform=\"scale(0.707)\" xlink:href=\"#E1-MJMATHI-6B\" x=\"0\" y=\"0\"></use>\n",
    " <use transform=\"scale(0.707)\" xlink:href=\"#E1-MJMATHI-6A\" x=\"521\" y=\"0\"></use>\n",
    "</g>\n",
    "</g>\n",
    "<g transform=\"translate(7875,0)\">\n",
    " <use xlink:href=\"#E1-MJMATHI-6C\" x=\"0\" y=\"0\"></use>\n",
    "<g transform=\"translate(298,-150)\">\n",
    " <use transform=\"scale(0.707)\" xlink:href=\"#E1-MJMATHI-69\" x=\"0\" y=\"0\"></use>\n",
    " <use transform=\"scale(0.707)\" xlink:href=\"#E1-MJMATHI-6B\" x=\"345\" y=\"0\"></use>\n",
    "</g>\n",
    "</g>\n",
    "</g>\n",
    "</svg>"
   ]
  },
  {
   "cell_type": "code",
   "execution_count": 35,
   "metadata": {},
   "outputs": [],
   "source": [
    "a = np.array([[2, 3],[4,5]])\n",
    "\n",
    "A ,L , U = lg.lu(a)"
   ]
  },
  {
   "cell_type": "code",
   "execution_count": 36,
   "metadata": {},
   "outputs": [
    {
     "data": {
      "text/plain": [
       "array([[1. , 0. ],\n",
       "       [0.5, 1. ]])"
      ]
     },
     "execution_count": 36,
     "metadata": {},
     "output_type": "execute_result"
    }
   ],
   "source": [
    "L"
   ]
  },
  {
   "cell_type": "code",
   "execution_count": 37,
   "metadata": {},
   "outputs": [
    {
     "data": {
      "text/plain": [
       "array([[4. , 5. ],\n",
       "       [0. , 0.5]])"
      ]
     },
     "execution_count": 37,
     "metadata": {},
     "output_type": "execute_result"
    }
   ],
   "source": [
    "U"
   ]
  },
  {
   "cell_type": "code",
   "execution_count": 38,
   "metadata": {},
   "outputs": [
    {
     "data": {
      "text/plain": [
       "array([[2, 3],\n",
       "       [4, 5]])"
      ]
     },
     "execution_count": 38,
     "metadata": {},
     "output_type": "execute_result"
    }
   ],
   "source": [
    "np.array([[2, 3],[4,5]])"
   ]
  },
  {
   "cell_type": "code",
   "execution_count": 89,
   "metadata": {},
   "outputs": [],
   "source": [
    "import scipy\n",
    "A = np.array([[95, 54, 26, 6, 10],[70, 40, 20, 5, 8],\n",
    "             [46, 26, 14, 4, 6],[25, 14, 8, 3, 4],\n",
    "             [9, 5, 3, 2, 2]])"
   ]
  },
  {
   "cell_type": "markdown",
   "metadata": {},
   "source": [
    "### QR"
   ]
  },
  {
   "cell_type": "code",
   "execution_count": 90,
   "metadata": {},
   "outputs": [],
   "source": [
    "Q, R = lg.qr(A)"
   ]
  },
  {
   "cell_type": "code",
   "execution_count": 91,
   "metadata": {},
   "outputs": [
    {
     "data": {
      "text/plain": [
       "array([[-7.34099782e-01,  2.66652690e-02,  6.78517850e-01,\n",
       "        -7.67290867e-16,  2.74528934e-16],\n",
       "       [-5.40915629e-01, -5.79162849e-01, -5.62464955e-01,\n",
       "        -1.84448932e-01, -1.46943672e-01],\n",
       "       [-3.55458842e-01,  4.32079264e-01, -4.01557259e-01,\n",
       "         4.71237270e-01,  5.51038769e-01],\n",
       "       [-1.93184153e-01,  6.05828118e-01, -2.32817772e-01,\n",
       "        -4.04597656e-02, -7.34718358e-01],\n",
       "       [-6.95462951e-02,  3.31872202e-01, -8.82856385e-02,\n",
       "        -8.61555009e-01,  3.67359179e-01]])"
      ]
     },
     "execution_count": 91,
     "metadata": {},
     "output_type": "execute_result"
    }
   ],
   "source": [
    "Q"
   ]
  },
  {
   "cell_type": "code",
   "execution_count": 92,
   "metadata": {},
   "outputs": [
    {
     "data": {
      "text/plain": [
       "array([[-1.29410201e+02, -7.35722529e+01, -3.66354428e+01,\n",
       "        -9.24965725e+00, -1.47129051e+01],\n",
       "       [ 0.00000000e+00, -3.51573929e-01,  1.00139125e+00,\n",
       "         1.47372318e+00,  1.31288235e+00],\n",
       "       [ 0.00000000e+00,  0.00000000e+00, -1.35703570e+00,\n",
       "        -1.22247130e+00, -1.23172705e+00],\n",
       "       [ 0.00000000e+00,  0.00000000e+00,  0.00000000e+00,\n",
       "        -8.81784892e-01, -5.33116912e-01],\n",
       "       [ 0.00000000e+00,  0.00000000e+00,  0.00000000e+00,\n",
       "         0.00000000e+00, -7.34718358e-02]])"
      ]
     },
     "execution_count": 92,
     "metadata": {},
     "output_type": "execute_result"
    }
   ],
   "source": [
    "R"
   ]
  },
  {
   "cell_type": "code",
   "execution_count": null,
   "metadata": {},
   "outputs": [],
   "source": []
  },
  {
   "cell_type": "code",
   "execution_count": null,
   "metadata": {},
   "outputs": [],
   "source": []
  }
 ],
 "metadata": {
  "kernelspec": {
   "display_name": "Python 3 (ipykernel)",
   "language": "python",
   "name": "python3"
  },
  "language_info": {
   "codemirror_mode": {
    "name": "ipython",
    "version": 3
   },
   "file_extension": ".py",
   "mimetype": "text/x-python",
   "name": "python",
   "nbconvert_exporter": "python",
   "pygments_lexer": "ipython3",
   "version": "3.9.15"
  },
  "vscode": {
   "interpreter": {
    "hash": "22705ef27b5704e2eb50670cf34b5b08ae6ca88e8f64287abd7aaebbf34523ad"
   }
  }
 },
 "nbformat": 4,
 "nbformat_minor": 4
}
