{
 "cells": [
  {
   "cell_type": "code",
   "execution_count": 1,
   "metadata": {
    "tags": []
   },
   "outputs": [],
   "source": [
    "import numpy as np \n",
    "import scipy.linalg as lg "
   ]
  },
  {
   "cell_type": "markdown",
   "metadata": {},
   "source": [
    "# Q1"
   ]
  },
  {
   "cell_type": "markdown",
   "metadata": {},
   "source": [
    "## LU Decoposition\n",
    "\n",
    "  \\begin{bmatrix}a_{11}&a_{12}&a_{13}\\\\a_{21}&a_{22}&a_{23}\\\\a_{31}&a_{32}&a_{33}\\end{bmatrix} \n",
    " \n",
    "\\begin{bmatrix}\\ell _{11}&0&0\\\\\\ell _{21}&\\ell _{22}&0\\\\\\ell _{31}&\\ell _{32}&\\ell _{33}\\end{bmatrix}\n",
    "\n",
    "\\begin{bmatrix}u_{11}&u_{12}&u_{13}\\\\0&u_{22}&u_{23}\\\\0&0&u_{33}\\end{bmatrix}"
   ]
  },
  {
   "cell_type": "code",
   "execution_count": 2,
   "metadata": {},
   "outputs": [],
   "source": [
    "A = np.array([[95, 54, 26, 6, 10],[70, 40, 20, 5, 8],\n",
    "             [46, 26, 14, 4, 6],[25, 14, 8, 3, 4],\n",
    "             [9, 5, 3, 2, 2]])"
   ]
  },
  {
   "cell_type": "code",
   "execution_count": 3,
   "metadata": {
    "tags": []
   },
   "outputs": [
    {
     "data": {
      "text/plain": [
       "array([[95, 54, 26,  6, 10],\n",
       "       [70, 40, 20,  5,  8],\n",
       "       [46, 26, 14,  4,  6],\n",
       "       [25, 14,  8,  3,  4],\n",
       "       [ 9,  5,  3,  2,  2]])"
      ]
     },
     "execution_count": 3,
     "metadata": {},
     "output_type": "execute_result"
    }
   ],
   "source": [
    "A"
   ]
  },
  {
   "cell_type": "code",
   "execution_count": 4,
   "metadata": {},
   "outputs": [],
   "source": [
    "A, L, U = lg.lu(A)"
   ]
  },
  {
   "cell_type": "code",
   "execution_count": 5,
   "metadata": {},
   "outputs": [
    {
     "data": {
      "text/plain": [
       "array([[ 1.        ,  0.        ,  0.        ,  0.        ,  0.        ],\n",
       "       [ 0.73684211,  1.        ,  0.        ,  0.        ,  0.        ],\n",
       "       [ 0.48421053, -0.7       ,  1.        ,  0.        ,  0.        ],\n",
       "       [ 0.09473684, -0.55      ,  0.5       ,  1.        ,  0.        ],\n",
       "       [ 0.26315789, -1.        ,  1.        ,  0.5       ,  1.        ]])"
      ]
     },
     "execution_count": 5,
     "metadata": {},
     "output_type": "execute_result"
    }
   ],
   "source": [
    "L"
   ]
  },
  {
   "cell_type": "code",
   "execution_count": 6,
   "metadata": {},
   "outputs": [
    {
     "data": {
      "text/plain": [
       "array([[95.        , 54.        , 26.        ,  6.        , 10.        ],\n",
       "       [ 0.        ,  0.21052632,  0.84210526,  0.57894737,  0.63157895],\n",
       "       [ 0.        ,  0.        ,  2.        ,  1.5       ,  1.6       ],\n",
       "       [ 0.        ,  0.        ,  0.        ,  1.        ,  0.6       ],\n",
       "       [ 0.        ,  0.        ,  0.        ,  0.        ,  0.1       ]])"
      ]
     },
     "execution_count": 6,
     "metadata": {},
     "output_type": "execute_result"
    }
   ],
   "source": [
    "U"
   ]
  },
  {
   "cell_type": "code",
   "execution_count": null,
   "metadata": {},
   "outputs": [],
   "source": []
  },
  {
   "cell_type": "code",
   "execution_count": 7,
   "metadata": {},
   "outputs": [],
   "source": [
    "A = np.array([[95, 54, 26, 6, 10],[70, 40, 20, 5, 8],\n",
    "             [46, 26, 14, 4, 6],[25, 14, 8, 3, 4],\n",
    "             [9, 5, 3, 2, 2]])"
   ]
  },
  {
   "cell_type": "code",
   "execution_count": 8,
   "metadata": {},
   "outputs": [],
   "source": [
    "n = A.shape[0]\n",
    "u = np.zeros((n,n), dtype=np.double)\n",
    "l = np.eye(n, dtype=np.double)\n",
    "\n",
    "def firstQ1(A):\n",
    "    \n",
    "    n = A.shape[0]\n",
    "    for k in range(n):\n",
    "        u[k, k:] = A[k, k:] - l[k,:k] @ u[:k,k:]\n",
    "        \n",
    "        l[(k+1):,k] = (A[(k+1):,k] - l[(k+1):,:] @ u[:,k]) / u[k, k]\n",
    "        \n",
    "        \n",
    "        \n",
    "    return l,u\n"
   ]
  },
  {
   "cell_type": "code",
   "execution_count": 9,
   "metadata": {},
   "outputs": [
    {
     "data": {
      "text/plain": [
       "(array([[ 1.        ,  0.        ,  0.        ,  0.        ,  0.        ],\n",
       "        [ 0.73684211,  1.        ,  0.        ,  0.        ,  0.        ],\n",
       "        [ 0.48421053, -0.7       ,  1.        ,  0.        ,  0.        ],\n",
       "        [ 0.26315789, -1.        ,  1.        ,  1.        ,  0.        ],\n",
       "        [ 0.09473684, -0.55      ,  0.5       ,  2.        ,  1.        ]]),\n",
       " array([[95.        , 54.        , 26.        ,  6.        , 10.        ],\n",
       "        [ 0.        ,  0.21052632,  0.84210526,  0.57894737,  0.63157895],\n",
       "        [ 0.        ,  0.        ,  2.        ,  1.5       ,  1.6       ],\n",
       "        [ 0.        ,  0.        ,  0.        ,  0.5       ,  0.4       ],\n",
       "        [ 0.        ,  0.        ,  0.        ,  0.        , -0.2       ]]))"
      ]
     },
     "execution_count": 9,
     "metadata": {},
     "output_type": "execute_result"
    }
   ],
   "source": [
    "firstQ1(A)"
   ]
  },
  {
   "cell_type": "code",
   "execution_count": 10,
   "metadata": {},
   "outputs": [
    {
     "data": {
      "text/plain": [
       "array([[ 1.        ,  0.        ,  0.        ,  0.        ,  0.        ],\n",
       "       [ 0.73684211,  1.        ,  0.        ,  0.        ,  0.        ],\n",
       "       [ 0.48421053, -0.7       ,  1.        ,  0.        ,  0.        ],\n",
       "       [ 0.26315789, -1.        ,  1.        ,  1.        ,  0.        ],\n",
       "       [ 0.09473684, -0.55      ,  0.5       ,  2.        ,  1.        ]])"
      ]
     },
     "execution_count": 10,
     "metadata": {},
     "output_type": "execute_result"
    }
   ],
   "source": [
    "l"
   ]
  },
  {
   "cell_type": "code",
   "execution_count": 11,
   "metadata": {},
   "outputs": [
    {
     "data": {
      "text/plain": [
       "array([[95.        , 54.        , 26.        ,  6.        , 10.        ],\n",
       "       [ 0.        ,  0.21052632,  0.84210526,  0.57894737,  0.63157895],\n",
       "       [ 0.        ,  0.        ,  2.        ,  1.5       ,  1.6       ],\n",
       "       [ 0.        ,  0.        ,  0.        ,  0.5       ,  0.4       ],\n",
       "       [ 0.        ,  0.        ,  0.        ,  0.        , -0.2       ]])"
      ]
     },
     "execution_count": 11,
     "metadata": {},
     "output_type": "execute_result"
    }
   ],
   "source": [
    "u"
   ]
  },
  {
   "cell_type": "code",
   "execution_count": 12,
   "metadata": {},
   "outputs": [
    {
     "data": {
      "text/plain": [
       "array([[95., 54., 26.,  6., 10.],\n",
       "       [70., 40., 20.,  5.,  8.],\n",
       "       [46., 26., 14.,  4.,  6.],\n",
       "       [25., 14.,  8.,  3.,  4.],\n",
       "       [ 9.,  5.,  3.,  2.,  2.]])"
      ]
     },
     "execution_count": 12,
     "metadata": {},
     "output_type": "execute_result"
    }
   ],
   "source": [
    "l @ u"
   ]
  },
  {
   "cell_type": "markdown",
   "metadata": {},
   "source": [
    "### QR Decompostion\n"
   ]
  },
  {
   "cell_type": "code",
   "execution_count": 13,
   "metadata": {},
   "outputs": [],
   "source": [
    "A = np.array([[95, 54, 26, 6, 10],[70, 40, 20, 5, 8],\n",
    "             [46, 26, 14, 4, 6],[25, 14, 8, 3, 4],\n",
    "             [9, 5, 3, 2, 2]])"
   ]
  },
  {
   "cell_type": "code",
   "execution_count": 14,
   "metadata": {},
   "outputs": [],
   "source": [
    "Q1 , R1 = lg.qr(A)"
   ]
  },
  {
   "cell_type": "code",
   "execution_count": 15,
   "metadata": {},
   "outputs": [
    {
     "data": {
      "text/plain": [
       "array([[-7.34099782e-01,  2.66652690e-02,  6.78517850e-01,\n",
       "        -7.67290867e-16,  2.74528934e-16],\n",
       "       [-5.40915629e-01, -5.79162849e-01, -5.62464955e-01,\n",
       "        -1.84448932e-01, -1.46943672e-01],\n",
       "       [-3.55458842e-01,  4.32079264e-01, -4.01557259e-01,\n",
       "         4.71237270e-01,  5.51038769e-01],\n",
       "       [-1.93184153e-01,  6.05828118e-01, -2.32817772e-01,\n",
       "        -4.04597656e-02, -7.34718358e-01],\n",
       "       [-6.95462951e-02,  3.31872202e-01, -8.82856385e-02,\n",
       "        -8.61555009e-01,  3.67359179e-01]])"
      ]
     },
     "execution_count": 15,
     "metadata": {},
     "output_type": "execute_result"
    }
   ],
   "source": [
    "Q1"
   ]
  },
  {
   "cell_type": "code",
   "execution_count": 16,
   "metadata": {},
   "outputs": [
    {
     "data": {
      "text/plain": [
       "array([[-1.29410201e+02, -7.35722529e+01, -3.66354428e+01,\n",
       "        -9.24965725e+00, -1.47129051e+01],\n",
       "       [ 0.00000000e+00, -3.51573929e-01,  1.00139125e+00,\n",
       "         1.47372318e+00,  1.31288235e+00],\n",
       "       [ 0.00000000e+00,  0.00000000e+00, -1.35703570e+00,\n",
       "        -1.22247130e+00, -1.23172705e+00],\n",
       "       [ 0.00000000e+00,  0.00000000e+00,  0.00000000e+00,\n",
       "        -8.81784892e-01, -5.33116912e-01],\n",
       "       [ 0.00000000e+00,  0.00000000e+00,  0.00000000e+00,\n",
       "         0.00000000e+00, -7.34718358e-02]])"
      ]
     },
     "execution_count": 16,
     "metadata": {},
     "output_type": "execute_result"
    }
   ],
   "source": [
    "R1"
   ]
  },
  {
   "cell_type": "code",
   "execution_count": 17,
   "metadata": {},
   "outputs": [
    {
     "data": {
      "text/plain": [
       "array([[95., 54., 26.,  6., 10.],\n",
       "       [70., 40., 20.,  5.,  8.],\n",
       "       [46., 26., 14.,  4.,  6.],\n",
       "       [25., 14.,  8.,  3.,  4.],\n",
       "       [ 9.,  5.,  3.,  2.,  2.]])"
      ]
     },
     "execution_count": 17,
     "metadata": {},
     "output_type": "execute_result"
    }
   ],
   "source": [
    "Q1 @ R1"
   ]
  },
  {
   "cell_type": "code",
   "execution_count": 18,
   "metadata": {},
   "outputs": [],
   "source": [
    "A = np.array([[95, 54, 26, 6, 10],[70, 40, 20, 5, 8],\n",
    "             [46, 26, 14, 4, 6],[25, 14, 8, 3, 4],\n",
    "             [9, 5, 3, 2, 2]])\n",
    "\n",
    "def secondQ2(A):\n",
    "    n, m = A.shape  \n",
    "\n",
    "    Q = np.empty((n, n))\n",
    "    u = np.empty((n, n))\n",
    "\n",
    "    u[:, 0] = A[:, 0]\n",
    "    Q[:, 0] = u[:, 0] / np.linalg.norm(u[:, 0])\n",
    "\n",
    "    for i in range(1, n):\n",
    "\n",
    "        u[:, i] = A[:, i]\n",
    "        for j in range(i):\n",
    "            u[:, i] -= (A[:, i] @ Q[:, j]) * Q[:, j]\n",
    "\n",
    "        Q[:, i] = u[:, i] / np.linalg.norm(u[:, i]) \n",
    "\n",
    "    R = np.zeros((n, m))\n",
    "    for i in range(n):\n",
    "        for j in range(i, m):\n",
    "            R[i, j] = A[:, j] @ Q[:, i]\n",
    "\n",
    "    return Q, R"
   ]
  },
  {
   "cell_type": "code",
   "execution_count": 19,
   "metadata": {},
   "outputs": [],
   "source": [
    " Q, R = secondQ2(A)"
   ]
  },
  {
   "cell_type": "code",
   "execution_count": 20,
   "metadata": {},
   "outputs": [
    {
     "data": {
      "text/plain": [
       "array([[ 7.34099782e-01, -2.66652690e-02, -6.78517850e-01,\n",
       "        -5.76776913e-13, -2.65706521e-12],\n",
       "       [ 5.40915629e-01,  5.79162849e-01,  5.62464955e-01,\n",
       "         1.84448932e-01,  1.46943672e-01],\n",
       "       [ 3.55458842e-01, -4.32079264e-01,  4.01557259e-01,\n",
       "        -4.71237270e-01, -5.51038769e-01],\n",
       "       [ 1.93184153e-01, -6.05828118e-01,  2.32817772e-01,\n",
       "         4.04597656e-02,  7.34718358e-01],\n",
       "       [ 6.95462951e-02, -3.31872202e-01,  8.82856385e-02,\n",
       "         8.61555009e-01, -3.67359179e-01]])"
      ]
     },
     "execution_count": 20,
     "metadata": {},
     "output_type": "execute_result"
    }
   ],
   "source": [
    "Q"
   ]
  },
  {
   "cell_type": "code",
   "execution_count": 21,
   "metadata": {},
   "outputs": [
    {
     "data": {
      "text/plain": [
       "array([[ 1.29410201e+02,  7.35722529e+01,  3.66354428e+01,\n",
       "         9.24965725e+00,  1.47129051e+01],\n",
       "       [ 0.00000000e+00,  3.51573929e-01, -1.00139125e+00,\n",
       "        -1.47372318e+00, -1.31288235e+00],\n",
       "       [ 0.00000000e+00,  0.00000000e+00,  1.35703570e+00,\n",
       "         1.22247130e+00,  1.23172705e+00],\n",
       "       [ 0.00000000e+00,  0.00000000e+00,  0.00000000e+00,\n",
       "         8.81784892e-01,  5.33116912e-01],\n",
       "       [ 0.00000000e+00,  0.00000000e+00,  0.00000000e+00,\n",
       "         0.00000000e+00,  7.34718358e-02]])"
      ]
     },
     "execution_count": 21,
     "metadata": {},
     "output_type": "execute_result"
    }
   ],
   "source": [
    "R"
   ]
  },
  {
   "cell_type": "code",
   "execution_count": 22,
   "metadata": {},
   "outputs": [
    {
     "data": {
      "text/plain": [
       "array([[95., 54., 26.,  6., 10.],\n",
       "       [70., 40., 20.,  5.,  8.],\n",
       "       [46., 26., 14.,  4.,  6.],\n",
       "       [25., 14.,  8.,  3.,  4.],\n",
       "       [ 9.,  5.,  3.,  2.,  2.]])"
      ]
     },
     "execution_count": 22,
     "metadata": {},
     "output_type": "execute_result"
    }
   ],
   "source": [
    "Q @ R"
   ]
  },
  {
   "cell_type": "code",
   "execution_count": null,
   "metadata": {},
   "outputs": [],
   "source": []
  },
  {
   "cell_type": "code",
   "execution_count": 23,
   "metadata": {},
   "outputs": [
    {
     "data": {
      "text/plain": [
       "[[3, 7, 13, 21, 31, 43, 57, 73, 91],\n",
       " [7, 12, 19, 28, 39, 52, 67, 84, 103],\n",
       " [13, 19, 27, 37, 49, 63, 79, 97, 117],\n",
       " [21, 28, 37, 48, 61, 76, 93, 112, 133],\n",
       " [31, 39, 49, 61, 75, 91, 109, 129, 151],\n",
       " [43, 52, 63, 76, 91, 108, 127, 148, 171],\n",
       " [57, 67, 79, 93, 109, 127, 147, 169, 193],\n",
       " [73, 84, 97, 112, 129, 148, 169, 192, 217],\n",
       " [91, 103, 117, 133, 151, 171, 193, 217, 243]]"
      ]
     },
     "execution_count": 23,
     "metadata": {},
     "output_type": "execute_result"
    }
   ],
   "source": [
    "[[i*j+ i*i + j*j for i in range(1,10)] \n",
    "for j in range(1,10)] "
   ]
  },
  {
   "cell_type": "markdown",
   "metadata": {},
   "source": [
    "# Q2"
   ]
  },
  {
   "cell_type": "code",
   "execution_count": 27,
   "metadata": {},
   "outputs": [],
   "source": [
    "A = np.array([[4, -1, 0, 0, 0, 0, 0, 0, 0, 0],\n",
    "             [-1, 4, -1, 0, 0, 0, 0, 0, 0, 0],\n",
    "             [0, -1, 4, -1, 0, 0, 0, 0, 0, 0],\n",
    "             [0, 0, -1, 4, -1, 0, 0, 0, 0, 0],\n",
    "             [0, 0, 0, -1, 4, -1, 0, 0, 0, 0],\n",
    "             [0, 0, 0, 0, -1, 4, -1, 0, 0, 0],\n",
    "             [0, 0, 0, 0, 0, -1, 4, -1, 0, 0],\n",
    "             [0, 0, 0, 0, 0, 0, -1, 4, -1, 0],\n",
    "             [0, 0, 0, 0, 0, 0, 0, -1, 4, -1],\n",
    "             [0, 0, 0, 0, 0, 0, 0, 0, -1, 4]])\n",
    "             \n",
    "             "
   ]
  },
  {
   "cell_type": "code",
   "execution_count": 29,
   "metadata": {},
   "outputs": [
    {
     "data": {
      "text/plain": [
       "array([[ 4, -1,  0,  0,  0,  0,  0,  0,  0,  0],\n",
       "       [-1,  4, -1,  0,  0,  0,  0,  0,  0,  0],\n",
       "       [ 0, -1,  4, -1,  0,  0,  0,  0,  0,  0],\n",
       "       [ 0,  0, -1,  4, -1,  0,  0,  0,  0,  0],\n",
       "       [ 0,  0,  0, -1,  4, -1,  0,  0,  0,  0],\n",
       "       [ 0,  0,  0,  0, -1,  4, -1,  0,  0,  0],\n",
       "       [ 0,  0,  0,  0,  0, -1,  4, -1,  0,  0],\n",
       "       [ 0,  0,  0,  0,  0,  0, -1,  4, -1,  0],\n",
       "       [ 0,  0,  0,  0,  0,  0,  0, -1,  4, -1],\n",
       "       [ 0,  0,  0,  0,  0,  0,  0,  0, -1,  4]])"
      ]
     },
     "execution_count": 29,
     "metadata": {},
     "output_type": "execute_result"
    }
   ],
   "source": [
    "A"
   ]
  },
  {
   "cell_type": "code",
   "execution_count": 30,
   "metadata": {},
   "outputs": [],
   "source": [
    "b = np.array([2, 4, 6, 8, 10, 12, 14, 16, 18, 31])"
   ]
  },
  {
   "cell_type": "code",
   "execution_count": 31,
   "metadata": {},
   "outputs": [
    {
     "data": {
      "text/plain": [
       "array([ 2,  4,  6,  8, 10, 12, 14, 16, 18, 31])"
      ]
     },
     "execution_count": 31,
     "metadata": {},
     "output_type": "execute_result"
    }
   ],
   "source": [
    "np.transpose(b)"
   ]
  },
  {
   "cell_type": "code",
   "execution_count": null,
   "metadata": {},
   "outputs": [],
   "source": []
  },
  {
   "cell_type": "code",
   "execution_count": null,
   "metadata": {},
   "outputs": [],
   "source": []
  },
  {
   "cell_type": "code",
   "execution_count": null,
   "metadata": {},
   "outputs": [],
   "source": []
  },
  {
   "cell_type": "code",
   "execution_count": 56,
   "metadata": {},
   "outputs": [],
   "source": [
    "  \n",
    "def seidel(a, x ,b):\n",
    "    #Finding length of a(3)       \n",
    "    n = len(a)                   \n",
    "    # for loop for 3 times as to calculate x, y , z\n",
    "    for j in range(0, n):        \n",
    "        # temp variable d to store b[j]\n",
    "        d = b[j]                  \n",
    "          \n",
    "        # to calculate respective xi, yi, zi\n",
    "        for i in range(0, n):     \n",
    "            if(j != i):\n",
    "                d-=a[j][i] * x[i]\n",
    "        # updating the value of our solution        \n",
    "        x[j] = d / a[j][j]\n",
    "    # returning our updated solution           \n",
    "    return x    \n",
    "   "
   ]
  },
  {
   "cell_type": "code",
   "execution_count": null,
   "metadata": {},
   "outputs": [],
   "source": []
  },
  {
   "cell_type": "code",
   "execution_count": 123,
   "metadata": {},
   "outputs": [
    {
     "name": "stdout",
     "output_type": "stream",
     "text": [
      "5.078884333542533e-06\n",
      "[ 0.99999831  1.99999831  2.99999877  3.99999924  4.99999958  5.99999979\n",
      "  6.9999999   7.99999996  8.99999999 10.        ]\n"
     ]
    }
   ],
   "source": [
    "x = [0,0,0,0,0,0,0,0,0,0]\n",
    "f =[]\n",
    "\n",
    "for i in range(0, 100): \n",
    "   \n",
    "    v1= np.array(x) \n",
    "    # print('v1 = ',v1)\n",
    "   \n",
    "\n",
    "    x = seidel(A, x, b)\n",
    "    \n",
    "    v2 = np.array(x)\n",
    "    nor = lg.norm(v2 - v1, np.inf)\n",
    "    if nor < 0.00001:\n",
    "        print(nor)\n",
    "        print(v2)\n",
    "        break\n",
    "\n",
    "    \n",
    "   \n",
    "\n",
    "\n",
    "    \n",
    "\n",
    "    \n",
    "    \n",
    "    \n",
    "  \n",
    "    \n",
    "    \n",
    "    \n",
    "    \n",
    "    \n",
    "    \n",
    "    \n",
    "    \n",
    "#     nor = lg.norm(np.array(f[i]) - np.array(f[i-1]), np.inf)\n",
    "#     if (nor < 0.00001):\n",
    "#         print(nor)\n",
    "#         print(f[i]) \n",
    "#         print(f)\n",
    "#         break\n",
    "    \n",
    "    \n",
    "    \n",
    "\n",
    "\n",
    "    \n",
    "     \n",
    "  "
   ]
  },
  {
   "cell_type": "code",
   "execution_count": 114,
   "metadata": {},
   "outputs": [],
   "source": [
    "v2 =  np.array( [0.5, 1.125, 1.78125, 2.4453125, 3.111328125, 3.77783203125, 4.4444580078125, 5.111114501953125, 5.777778625488281, 9.19444465637207])\n",
    "v1 = np.array([0.5, 1.125, 1.78125, 2.4453125, 3.111328125, 3.77783203125, 4.4444580078125, 5.111114501953125, 5.777778625488281, 9.19444465637207])"
   ]
  },
  {
   "cell_type": "code",
   "execution_count": 53,
   "metadata": {},
   "outputs": [
    {
     "data": {
      "text/plain": [
       "3.2222213745117188"
      ]
     },
     "execution_count": 53,
     "metadata": {},
     "output_type": "execute_result"
    }
   ],
   "source": [
    "lg.norm(v2-v1, np.inf)"
   ]
  },
  {
   "cell_type": "code",
   "execution_count": null,
   "metadata": {},
   "outputs": [],
   "source": []
  },
  {
   "cell_type": "code",
   "execution_count": null,
   "metadata": {},
   "outputs": [],
   "source": []
  },
  {
   "cell_type": "code",
   "execution_count": 117,
   "metadata": {},
   "outputs": [
    {
     "name": "stdout",
     "output_type": "stream",
     "text": [
      "[0, 0, 0]\n",
      "[1.0, 0.8, 0.39999999999999997]\n",
      "[0.6000000000000001, 0.9599999999999997, 0.48000000000000004]\n",
      "[0.52, 0.9919999999999998, 0.49600000000000005]\n",
      "[0.504, 0.9983999999999998, 0.4992000000000001]\n",
      "[0.5008, 0.99968, 0.49984]\n",
      "[0.5001599999999999, 0.9999360000000002, 0.4999679999999999]\n",
      "[0.500032, 0.9999872, 0.4999936]\n",
      "[0.5000064, 0.9999974400000001, 0.49999871999999995]\n",
      "[0.50000128, 0.999999488, 0.4999997439999999]\n",
      "[0.500000256, 0.9999998976000001, 0.49999994880000004]\n",
      "[0.5000000512, 0.9999999795199999, 0.4999999897600001]\n",
      "[0.50000001024, 0.999999995904, 0.499999997952]\n",
      "[0.500000002048, 0.9999999991808, 0.49999999959040003]\n",
      "[0.5000000004095999, 0.9999999998361601, 0.49999999991808003]\n",
      "[0.50000000008192, 0.9999999999672321, 0.49999999998361594]\n",
      "[0.500000000016384, 0.9999999999934465, 0.49999999999672307]\n",
      "[0.5000000000032768, 0.9999999999986894, 0.4999999999993445]\n",
      "[0.5000000000006554, 0.9999999999997378, 0.49999999999986894]\n",
      "[0.500000000000131, 0.9999999999999478, 0.49999999999997374]\n",
      "[0.5000000000000262, 0.9999999999999897, 0.49999999999999467]\n",
      "[0.5000000000000052, 0.9999999999999979, 0.49999999999999895]\n",
      "[0.5000000000000011, 0.9999999999999994, 0.49999999999999983]\n",
      "[0.5000000000000002, 0.9999999999999998, 0.5000000000000001]\n",
      "[0.49999999999999994, 1.0, 0.5]\n",
      "[0.5, 1.0, 0.5]\n"
     ]
    }
   ],
   "source": [
    "\n",
    "def seidel(a, x ,b):\n",
    "    #Finding length of a(3)       \n",
    "    n = len(a)                   \n",
    "    # for loop for 3 times as to calculate x, y , z\n",
    "    for j in range(0, n):        \n",
    "        # temp variable d to store b[j]\n",
    "        d = b[j]                  \n",
    "          \n",
    "        # to calculate respective xi, yi, zi\n",
    "        for i in range(0, n):     \n",
    "            if(j != i):\n",
    "                d-=a[j][i] * x[i]\n",
    "        # updating the value of our solution        \n",
    "        x[j] = d / a[j][j]\n",
    "    # returning our updated solution           \n",
    "    return x    \n",
    "   \n",
    "# int(input())input as number of variable to be solved                \n",
    "n = 3                              \n",
    "a = []                            \n",
    "b = []        \n",
    "# initial solution depending on n(here n=3)                     \n",
    "x = [0, 0, 0]                        \n",
    "a = [[4, 1, 2],[3, 5, 1],[1, 1, 3]]\n",
    "b = [4,7,3]\n",
    "print(x)\n",
    "  \n",
    "#loop run for m times depending on m the error value\n",
    "for i in range(0, 25):            \n",
    "    x = seidel(a, x, b)\n",
    "    #print each time the updated solution\n",
    "    print(x)    "
   ]
  },
  {
   "cell_type": "code",
   "execution_count": 118,
   "metadata": {},
   "outputs": [],
   "source": [
    "f =np.array([0.5000000000006554, 0.9999999999997378, 0.49999999999986894])\n",
    "h = np.array([0.500000000000131, 0.9999999999999478, 0.49999999999997374])"
   ]
  },
  {
   "cell_type": "code",
   "execution_count": 119,
   "metadata": {},
   "outputs": [
    {
     "data": {
      "text/plain": [
       "5.243583345304614e-13"
      ]
     },
     "execution_count": 119,
     "metadata": {},
     "output_type": "execute_result"
    }
   ],
   "source": [
    "lg.norm(h - f, np.inf)"
   ]
  },
  {
   "cell_type": "code",
   "execution_count": null,
   "metadata": {},
   "outputs": [],
   "source": []
  }
 ],
 "metadata": {
  "kernelspec": {
   "display_name": "Python 3 (ipykernel)",
   "language": "python",
   "name": "python3"
  },
  "language_info": {
   "codemirror_mode": {
    "name": "ipython",
    "version": 3
   },
   "file_extension": ".py",
   "mimetype": "text/x-python",
   "name": "python",
   "nbconvert_exporter": "python",
   "pygments_lexer": "ipython3",
   "version": "3.9.15"
  },
  "vscode": {
   "interpreter": {
    "hash": "22705ef27b5704e2eb50670cf34b5b08ae6ca88e8f64287abd7aaebbf34523ad"
   }
  }
 },
 "nbformat": 4,
 "nbformat_minor": 4
}
