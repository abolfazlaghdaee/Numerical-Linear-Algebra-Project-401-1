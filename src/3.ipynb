{
 "cells": [
  {
   "cell_type": "code",
   "execution_count": 131,
   "id": "8b0f1fd5-97dc-4e1e-9efb-53abbaa88734",
   "metadata": {},
   "outputs": [],
   "source": [
    "import numpy as np\n",
    "import math"
   ]
  },
  {
   "cell_type": "code",
   "execution_count": 132,
   "id": "0e4ed822-b17b-4d4a-beb6-fdbbd1b98c10",
   "metadata": {},
   "outputs": [],
   "source": [
    "A = np.array([[1, 1, -2, 2],\n",
    "             [1, -1, -1, 2],\n",
    "             [-2, -1, 1, 2],\n",
    "             [2, 2, 2, 1]])\n",
    "\n"
   ]
  },
  {
   "cell_type": "code",
   "execution_count": 133,
   "id": "fb9565ec-7ba8-4c04-88cd-7982f0042c28",
   "metadata": {},
   "outputs": [
    {
     "name": "stdout",
     "output_type": "stream",
     "text": [
      "[1]\n",
      "[-2]\n",
      "[2]\n"
     ]
    }
   ],
   "source": [
    "c= A[1:, 0, np.newaxis]\n",
    "for i in c:\n",
    "    print(i)"
   ]
  },
  {
   "cell_type": "code",
   "execution_count": 134,
   "id": "0bce3f46-e34b-4dfb-9686-9b71ebbea7b2",
   "metadata": {},
   "outputs": [],
   "source": [
    "def gen_U(a):\n",
    "  \n",
    "\n",
    "    norm2 = 0\n",
    "    t = a.shape[0]\n",
    "    \n",
    "    l = [[0] for i in range(t)]\n",
    "    l[0] = [1]\n",
    "    for i in a:\n",
    "        norm2 += i**2\n",
    "        \n",
    "    norm2 = math.sqrt(norm2)    \n",
    "        \n",
    "    if a[0] <0:\n",
    "           u=   a - norm2 * 1\n",
    "    elif a[0] >= 0:\n",
    "        u = a+ norm2 * np.array(l)\n",
    "        \n",
    "    i = np.identity(t) \n",
    "    h = i -  (2*(u@ u.T)/ (u.T @ u))\n",
    "    return h\n",
    "    "
   ]
  },
  {
   "cell_type": "code",
   "execution_count": 135,
   "id": "5921f3d9-8632-41be-9428-71d09dd76fae",
   "metadata": {},
   "outputs": [],
   "source": [
    "p = gen_U(c)\n"
   ]
  },
  {
   "cell_type": "code",
   "execution_count": 136,
   "id": "4e6d3de1-f51f-45eb-8386-f7f79e888130",
   "metadata": {},
   "outputs": [],
   "source": [
    "def genvec_house(a):\n",
    "\n",
    "\n",
    "    u = a/ (a[0] +np.copysign(np.linalg.norm(a), a[0]))\n",
    "\n",
    "    u[0] = 1\n",
    "    tau = 2*(u@ u.T)/ (u.T @ u)\n",
    "    \n",
    "    return u,tau"
   ]
  },
  {
   "cell_type": "code",
   "execution_count": null,
   "id": "e392acce-5417-455c-84a4-48bd73c68f4c",
   "metadata": {},
   "outputs": [],
   "source": []
  },
  {
   "cell_type": "code",
   "execution_count": 133,
   "id": "28c939c3-fc24-4457-a383-b1a73a903d71",
   "metadata": {},
   "outputs": [],
   "source": [
    "l = [[0] for i in range(3)]"
   ]
  },
  {
   "cell_type": "code",
   "execution_count": 137,
   "id": "b3b0291d-e438-4832-b5d5-48c9780035f3",
   "metadata": {},
   "outputs": [],
   "source": [
    "l[0] = [1]"
   ]
  },
  {
   "cell_type": "code",
   "execution_count": 152,
   "id": "6bcd04de-d5fd-4e76-85e7-1b7387bf5b2c",
   "metadata": {},
   "outputs": [
    {
     "data": {
      "text/plain": [
       "[[1], [0], [0]]"
      ]
     },
     "execution_count": 152,
     "metadata": {},
     "output_type": "execute_result"
    }
   ],
   "source": [
    "l"
   ]
  },
  {
   "cell_type": "code",
   "execution_count": 153,
   "id": "c5aa2d94-e75e-4a2e-9a80-5c2c837aadac",
   "metadata": {},
   "outputs": [
    {
     "data": {
      "text/plain": [
       "array([[1],\n",
       "       [0],\n",
       "       [0]])"
      ]
     },
     "execution_count": 153,
     "metadata": {},
     "output_type": "execute_result"
    }
   ],
   "source": [
    "np.array(l)"
   ]
  },
  {
   "cell_type": "code",
   "execution_count": null,
   "id": "6a9b0d4d-d9f4-42c9-840c-b00f604914c4",
   "metadata": {},
   "outputs": [],
   "source": []
  },
  {
   "cell_type": "code",
   "execution_count": 123,
   "id": "d73e4b1f-b02e-4adf-a231-30b1f75e0367",
   "metadata": {},
   "outputs": [],
   "source": [
    "A = np.array([[1, 1, -2, 2],\n",
    "             [1, -1, -1, 2],\n",
    "             [-2, -1, 1, 2],\n",
    "             [2, 2, 2, 1]  ])\n",
    "\n"
   ]
  },
  {
   "cell_type": "code",
   "execution_count": 124,
   "id": "479b6b2d-1914-4f56-9f21-0e3891cdc3e1",
   "metadata": {},
   "outputs": [
    {
     "data": {
      "text/plain": [
       "array([[0, 0, 0, 0]])"
      ]
     },
     "execution_count": 124,
     "metadata": {},
     "output_type": "execute_result"
    }
   ],
   "source": [
    "c= np.array([[0,0,0,0]])\n",
    "c2 = np.array([1,0,0,0,0\n",
    "              ])\n",
    "c"
   ]
  },
  {
   "cell_type": "code",
   "execution_count": 125,
   "id": "b65b42d8-fd55-456d-9c81-f7f6f5c7474b",
   "metadata": {},
   "outputs": [
    {
     "data": {
      "text/plain": [
       "array([[ 1,  0,  0,  0,  0],\n",
       "       [ 0,  1,  1, -2,  2],\n",
       "       [ 0,  1, -1, -1,  2],\n",
       "       [ 0, -2, -1,  1,  2],\n",
       "       [ 0,  2,  2,  2,  1]])"
      ]
     },
     "execution_count": 125,
     "metadata": {},
     "output_type": "execute_result"
    }
   ],
   "source": [
    "f = np.append(c, A, axis= 0 )\n",
    "np.insert(f,0,c2, axis =1)\n",
    "\n"
   ]
  },
  {
   "cell_type": "code",
   "execution_count": 116,
   "id": "2bc2c56b-e5d4-4b07-a417-73a6b37742ed",
   "metadata": {},
   "outputs": [
    {
     "data": {
      "text/plain": [
       "array([[ 1,  1, -2,  2],\n",
       "       [ 1, -1, -1,  2],\n",
       "       [-2, -1,  1,  2],\n",
       "       [ 2,  2,  2,  1]])"
      ]
     },
     "execution_count": 116,
     "metadata": {},
     "output_type": "execute_result"
    }
   ],
   "source": [
    "A"
   ]
  },
  {
   "cell_type": "code",
   "execution_count": 128,
   "id": "b0729ce5-6837-431d-a79a-ed67496cf085",
   "metadata": {},
   "outputs": [],
   "source": [
    "def gen_H(a):\n",
    "    n = a.shape[0]\n",
    "    c = np.array([[0 for i in range(n)]])\n",
    "    c2 = np.array([ 0 for i in range(n+1)])\n",
    "    \n",
    "    f = np.append(c , a, axis =0)\n",
    "    H = np.insert(f, 0 , c2, axis = 1)\n",
    "    H[0,0] =1 \n",
    "    return H"
   ]
  },
  {
   "cell_type": "code",
   "execution_count": 140,
   "id": "6d36d0be-17d4-49bb-8c9a-d51de89b8512",
   "metadata": {},
   "outputs": [],
   "source": [
    "H= gen_H(p)"
   ]
  },
  {
   "cell_type": "code",
   "execution_count": 100,
   "id": "c4a507f8-8334-4c57-be3c-69afe7aa8d09",
   "metadata": {},
   "outputs": [],
   "source": [
    "def houseHolder2(m):    \n",
    "    l = len(m)\n",
    "    for i in range(0, l - 1):\n",
    "        I = np.eye(l - i)\n",
    "        ai = m[:, i] \n",
    "        abs = np.linalg.norm(ai[i:l]) \n",
    "        sign = np.sign(m[i, i])\n",
    "        vi = np.array([ai[i:l]]).T + sign * abs * np.array([I[:, 0]]).T\n",
    "        Qi = I - 2 * (vi @ vi.T) / (vi.T @ vi)\n",
    "        J = np.eye(l)\n",
    "        J[i:l, i:l] = Qi\n",
    "        m = J@m\n",
    "    return m  "
   ]
  },
  {
   "cell_type": "code",
   "execution_count": 142,
   "id": "e1346fbb-ee6d-483f-ba65-b3fc159373c7",
   "metadata": {},
   "outputs": [
    {
     "data": {
      "text/plain": [
       "array([[ 1.00000000e+00, -3.00000000e+00, -2.22044605e-16,\n",
       "         2.22044605e-16],\n",
       "       [-3.00000000e+00,  3.33333333e-01, -1.33333333e+00,\n",
       "         1.00000000e+00],\n",
       "       [-2.22044605e-16, -1.33333333e+00,  1.00000000e+00,\n",
       "         2.66666667e+00],\n",
       "       [ 2.22044605e-16,  1.00000000e+00,  2.66666667e+00,\n",
       "        -3.33333333e-01]])"
      ]
     },
     "execution_count": 142,
     "metadata": {},
     "output_type": "execute_result"
    }
   ],
   "source": [
    "H @ A @ H.T"
   ]
  },
  {
   "cell_type": "code",
   "execution_count": 172,
   "id": "93e14237-cde8-4c62-a8ee-a12c279c8713",
   "metadata": {},
   "outputs": [
    {
     "data": {
      "text/plain": [
       "array([[-3.16227766e+00, -1.89736660e+00,  3.16227766e-01,\n",
       "        -6.32455532e-01],\n",
       "       [-1.25737386e-16,  1.84390889e+00,  1.41004798e+00,\n",
       "        -6.50791373e-01],\n",
       "       [ 4.99847827e-17, -7.60989311e-17,  2.81278593e+00,\n",
       "        -3.13693598e-01],\n",
       "       [-7.96463094e-17, -3.67449905e-17, -3.85272685e-16,\n",
       "         3.47535134e+00]])"
      ]
     },
     "execution_count": 172,
     "metadata": {},
     "output_type": "execute_result"
    }
   ],
   "source": [
    "houseHolder2(A)"
   ]
  },
  {
   "cell_type": "code",
   "execution_count": 173,
   "id": "2305869d-f8f1-45c1-9843-00fe4ffb63f7",
   "metadata": {},
   "outputs": [],
   "source": [
    "from numpy import dot,diagonal,outer,identity\n",
    "from math import sqrt\n",
    "\n",
    "def householder(a): \n",
    "    n = len(a)\n",
    "    for k in range(n-2):\n",
    "        u = a[k+1:n,k]\n",
    "        uMag = sqrt(dot(u,u))\n",
    "        if u[0] < 0.0: uMag = -uMag\n",
    "        u[0] = u[0] + uMag\n",
    "        h = dot(u,u)/2.0\n",
    "        v = dot(a[k+1:n,k+1:n],u)/h\n",
    "        g = dot(u,v)/(2.0*h)\n",
    "        v = v - g*u\n",
    "        a[k+1:n,k+1:n] = a[k+1:n,k+1:n] - outer(v,u) \\\n",
    "                         - outer(u,v)\n",
    "        a[k,k+1] = -uMag\n",
    "    return diagonal(a),diagonal(a,1)\n",
    "\n",
    "def computeP(a): \n",
    "    n = len(a)\n",
    "    p = identity(n)*1.0\n",
    "    for k in range(n-2):\n",
    "        u = a[k+1:n,k]\n",
    "        h = dot(u,u)/2.0\n",
    "        v = dot(p[1:n,k+1:n],u)/h           \n",
    "        p[1:n,k+1:n] = p[1:n,k+1:n] - outer(v,u)\n",
    "    return p\n",
    "      "
   ]
  },
  {
   "cell_type": "code",
   "execution_count": 174,
   "id": "818fce89-5119-4d73-b3f7-61ed25000377",
   "metadata": {},
   "outputs": [
    {
     "data": {
      "text/plain": [
       "array([[ 1,  1, -2,  2],\n",
       "       [ 1, -1, -1,  2],\n",
       "       [-2, -1,  1,  2],\n",
       "       [ 2,  2,  2,  1]])"
      ]
     },
     "execution_count": 174,
     "metadata": {},
     "output_type": "execute_result"
    }
   ],
   "source": [
    "A"
   ]
  },
  {
   "cell_type": "code",
   "execution_count": 181,
   "id": "ee430b77-aa9e-40bc-b7b1-0d7194aceb84",
   "metadata": {},
   "outputs": [
    {
     "data": {
      "text/plain": [
       "(array([ 1,  2, -1,  0]), array([-4, -2,  0]))"
      ]
     },
     "execution_count": 181,
     "metadata": {},
     "output_type": "execute_result"
    }
   ],
   "source": [
    "householder(A)"
   ]
  },
  {
   "cell_type": "code",
   "execution_count": 178,
   "id": "08a08d75-3757-4a13-9b2e-3d9835f45bbc",
   "metadata": {},
   "outputs": [],
   "source": [
    " p  = computeP(A)"
   ]
  },
  {
   "cell_type": "code",
   "execution_count": 180,
   "id": "2fbe5684-424d-4713-bee6-0e4439ffc687",
   "metadata": {},
   "outputs": [
    {
     "data": {
      "text/plain": [
       "array([[ 1.00000000e+00,  1.00000000e+00,  1.11022302e-16,\n",
       "         4.00000000e+00],\n",
       "       [-1.33333333e+00, -1.33333333e+00,  1.00000000e+00,\n",
       "        -3.33333333e-01],\n",
       "       [ 4.66666667e+00, -1.33333333e+00,  2.00000000e+00,\n",
       "         6.66666667e-01],\n",
       "       [-6.66666667e-01,  1.33333333e+00,  2.00000000e+00,\n",
       "         3.33333333e-01]])"
      ]
     },
     "execution_count": 180,
     "metadata": {},
     "output_type": "execute_result"
    }
   ],
   "source": [
    "p @ A @ p.T"
   ]
  },
  {
   "cell_type": "code",
   "execution_count": null,
   "id": "83de760f-ad67-44a0-9930-6d39f1139828",
   "metadata": {},
   "outputs": [],
   "source": []
  }
 ],
 "metadata": {
  "kernelspec": {
   "display_name": "Python 3 (ipykernel)",
   "language": "python",
   "name": "python3"
  },
  "language_info": {
   "codemirror_mode": {
    "name": "ipython",
    "version": 3
   },
   "file_extension": ".py",
   "mimetype": "text/x-python",
   "name": "python",
   "nbconvert_exporter": "python",
   "pygments_lexer": "ipython3",
   "version": "3.9.15"
  }
 },
 "nbformat": 4,
 "nbformat_minor": 5
}
