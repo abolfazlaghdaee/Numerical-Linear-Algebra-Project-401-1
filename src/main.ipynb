{
 "cells": [
  {
   "cell_type": "code",
   "execution_count": 5,
   "metadata": {},
   "outputs": [],
   "source": [
    "import numpy as np \n",
    "import scipy.linalg as lg "
   ]
  },
  {
   "attachments": {},
   "cell_type": "markdown",
   "metadata": {},
   "source": [
    "## LU Decoposition"
   ]
  },
  {
   "cell_type": "code",
   "execution_count": 6,
   "metadata": {},
   "outputs": [],
   "source": [
    "A = np.array([[95, 54, 26, 6, 10],[70, 40, 20, 5, 8],\n",
    "             [46, 26, 14, 4, 6],[25, 14, 8, 3, 4],\n",
    "             [9, 5, 3, 2, 2]])"
   ]
  },
  {
   "cell_type": "code",
   "execution_count": 7,
   "metadata": {},
   "outputs": [
    {
     "data": {
      "text/plain": [
       "array([[95, 54, 26,  6, 10],\n",
       "       [70, 40, 20,  5,  8],\n",
       "       [46, 26, 14,  4,  6],\n",
       "       [25, 14,  8,  3,  4],\n",
       "       [ 9,  5,  3,  2,  2]])"
      ]
     },
     "execution_count": 7,
     "metadata": {},
     "output_type": "execute_result"
    }
   ],
   "source": [
    "A"
   ]
  },
  {
   "cell_type": "code",
   "execution_count": 8,
   "metadata": {},
   "outputs": [],
   "source": [
    "A, L, U = lg.lu(A)"
   ]
  },
  {
   "cell_type": "code",
   "execution_count": 9,
   "metadata": {},
   "outputs": [
    {
     "data": {
      "text/plain": [
       "array([[1., 0., 0., 0., 0.],\n",
       "       [0., 1., 0., 0., 0.],\n",
       "       [0., 0., 1., 0., 0.],\n",
       "       [0., 0., 0., 0., 1.],\n",
       "       [0., 0., 0., 1., 0.]])"
      ]
     },
     "execution_count": 9,
     "metadata": {},
     "output_type": "execute_result"
    }
   ],
   "source": [
    "A\n"
   ]
  },
  {
   "cell_type": "code",
   "execution_count": 10,
   "metadata": {},
   "outputs": [
    {
     "data": {
      "text/plain": [
       "array([[ 1.        ,  0.        ,  0.        ,  0.        ,  0.        ],\n",
       "       [ 0.73684211,  1.        ,  0.        ,  0.        ,  0.        ],\n",
       "       [ 0.48421053, -0.7       ,  1.        ,  0.        ,  0.        ],\n",
       "       [ 0.09473684, -0.55      ,  0.5       ,  1.        ,  0.        ],\n",
       "       [ 0.26315789, -1.        ,  1.        ,  0.5       ,  1.        ]])"
      ]
     },
     "execution_count": 10,
     "metadata": {},
     "output_type": "execute_result"
    }
   ],
   "source": [
    "L"
   ]
  },
  {
   "cell_type": "code",
   "execution_count": 11,
   "metadata": {},
   "outputs": [
    {
     "data": {
      "text/plain": [
       "array([[95.        , 54.        , 26.        ,  6.        , 10.        ],\n",
       "       [ 0.        ,  0.21052632,  0.84210526,  0.57894737,  0.63157895],\n",
       "       [ 0.        ,  0.        ,  2.        ,  1.5       ,  1.6       ],\n",
       "       [ 0.        ,  0.        ,  0.        ,  1.        ,  0.6       ],\n",
       "       [ 0.        ,  0.        ,  0.        ,  0.        ,  0.1       ]])"
      ]
     },
     "execution_count": 11,
     "metadata": {},
     "output_type": "execute_result"
    }
   ],
   "source": [
    "U"
   ]
  },
  {
   "cell_type": "code",
   "execution_count": null,
   "metadata": {},
   "outputs": [],
   "source": []
  },
  {
   "cell_type": "code",
   "execution_count": null,
   "metadata": {},
   "outputs": [],
   "source": []
  },
  {
   "cell_type": "code",
   "execution_count": 27,
   "metadata": {},
   "outputs": [],
   "source": [
    "A = np.array([[95, 54, 26, 6, 10],[70, 40, 20, 5, 8],\n",
    "             [46, 26, 14, 4, 6],[25, 14, 8, 3, 4],\n",
    "             [9, 5, 3, 2, 2]])"
   ]
  },
  {
   "cell_type": "code",
   "execution_count": 44,
   "metadata": {},
   "outputs": [],
   "source": [
    "\n",
    "\n",
    "def luDecomposition(mat, n):\n",
    " \n",
    "    lower = [[0 for x in range(n)]\n",
    "             for y in range(n)]\n",
    "    upper = [[0 for x in range(n)]\n",
    "             for y in range(n)]\n",
    " \n",
    "    # Decomposing matrix into Upper\n",
    "    # and Lower triangular matrix\n",
    "    for i in range(n):\n",
    " \n",
    "        # Upper Triangular\n",
    "        for k in range(i, n):\n",
    " \n",
    "            # Summation of L(i, j) * U(j, k)\n",
    "            sum = 0\n",
    "            for j in range(i):\n",
    "                sum += (lower[i][j] * upper[j][k])\n",
    " \n",
    "            # Evaluating U(i, k)\n",
    "            upper[i][k] = mat[i][k] - sum\n",
    " \n",
    "        # Lower Triangular\n",
    "        for k in range(i, n):\n",
    "            if (i == k):\n",
    "                lower[i][i] = 1  # Diagonal as 1\n",
    "            else:\n",
    " \n",
    "                # Summation of L(k, j) * U(j, i)\n",
    "                sum = 0\n",
    "                for j in range(i):\n",
    "                    sum += (lower[k][j] * upper[j][i])\n",
    " \n",
    "                # Evaluating L(k, i)\n",
    "                lower[k][i] = int((mat[k][i] - sum) /\n",
    "                                  upper[i][i])\n",
    "\n",
    "\n",
    "\n",
    "\n",
    "    return lower,\" fdfd \" ,upper"
   ]
  },
  {
   "cell_type": "code",
   "execution_count": 45,
   "metadata": {},
   "outputs": [
    {
     "data": {
      "text/plain": [
       "([[1, 0, 0, 0, 0],\n",
       "  [0, 1, 0, 0, 0],\n",
       "  [0, 0, 1, 0, 0],\n",
       "  [0, 0, 0, 1, 0],\n",
       "  [0, 0, 0, 0, 1]],\n",
       " ' fdfd ',\n",
       " [[95, 54, 26, 6, 10],\n",
       "  [0, 40, 20, 5, 8],\n",
       "  [0, 0, 14, 4, 6],\n",
       "  [0, 0, 0, 3, 4],\n",
       "  [0, 0, 0, 0, 2]])"
      ]
     },
     "execution_count": 45,
     "metadata": {},
     "output_type": "execute_result"
    }
   ],
   "source": [
    "luDecomposition(A,5)"
   ]
  },
  {
   "cell_type": "code",
   "execution_count": 39,
   "metadata": {},
   "outputs": [
    {
     "ename": "NameError",
     "evalue": "name 'upper' is not defined",
     "output_type": "error",
     "traceback": [
      "\u001b[0;31m---------------------------------------------------------------------------\u001b[0m",
      "\u001b[0;31mNameError\u001b[0m                                 Traceback (most recent call last)",
      "Cell \u001b[0;32mIn[39], line 1\u001b[0m\n\u001b[0;32m----> 1\u001b[0m upper\n",
      "\u001b[0;31mNameError\u001b[0m: name 'upper' is not defined"
     ]
    }
   ],
   "source": [
    "upper"
   ]
  },
  {
   "cell_type": "code",
   "execution_count": null,
   "metadata": {},
   "outputs": [],
   "source": []
  }
 ],
 "metadata": {
  "kernelspec": {
   "display_name": "Python 3 (ipykernel)",
   "language": "python",
   "name": "python3"
  },
  "language_info": {
   "codemirror_mode": {
    "name": "ipython",
    "version": 3
   },
   "file_extension": ".py",
   "mimetype": "text/x-python",
   "name": "python",
   "nbconvert_exporter": "python",
   "pygments_lexer": "ipython3",
   "version": "3.9.15"
  },
  "vscode": {
   "interpreter": {
    "hash": "22705ef27b5704e2eb50670cf34b5b08ae6ca88e8f64287abd7aaebbf34523ad"
   }
  }
 },
 "nbformat": 4,
 "nbformat_minor": 4
}
